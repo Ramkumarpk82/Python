{
  "nbformat": 4,
  "nbformat_minor": 0,
  "metadata": {
    "colab": {
      "name": "Basics_of_Python_2.ipynb",
      "provenance": [],
      "collapsed_sections": []
    },
    "kernelspec": {
      "name": "python3",
      "display_name": "Python 3"
    },
    "language_info": {
      "name": "python"
    }
  },
  "cells": [
    {
      "cell_type": "code",
      "metadata": {
        "id": "O4JDkmyoy7TD"
      },
      "source": [
        "#dictionary\n",
        "\"\"\"\n",
        "1. Key - Value pair Datastructure\n",
        "2. Key is Unique and values can be duplicated\n",
        "3. Can retrieve the values using keys\n",
        "4. Can change the value using the key \n",
        "5. Key is immutable\n",
        "\n",
        "Dictionaries - Are Hashmaps if you are from any other languages\n",
        "\"\"\"\n",
        "1. Logical Error - The code will run if there is a logical error! But cannot be\n",
        "used as there is an issue in the solution Approach\n",
        "2. Syntax Error - There is an issue with the code syntax itself! \n",
        "\n",
        "None\n",
        "\"  \"\n"
      ],
      "execution_count": null,
      "outputs": []
    },
    {
      "cell_type": "code",
      "metadata": {
        "id": "o3tZvUYe0p9_"
      },
      "source": [
        "sample_dictionary = {\"A\":\"Alpha\",\"B\":\"Beta\",1:\"One\"}"
      ],
      "execution_count": 1,
      "outputs": []
    },
    {
      "cell_type": "code",
      "metadata": {
        "colab": {
          "base_uri": "https://localhost:8080/"
        },
        "id": "zUIjrtMv1r9H",
        "outputId": "9965706d-1f79-40e5-eb83-8a353e21d960"
      },
      "source": [
        "sample_dictionary"
      ],
      "execution_count": 2,
      "outputs": [
        {
          "output_type": "execute_result",
          "data": {
            "text/plain": [
              "{1: 'One', 'A': 'Alpha', 'B': 'Beta'}"
            ]
          },
          "metadata": {
            "tags": []
          },
          "execution_count": 2
        }
      ]
    },
    {
      "cell_type": "code",
      "metadata": {
        "colab": {
          "base_uri": "https://localhost:8080/",
          "height": 35
        },
        "id": "gr9uv0BK1uu7",
        "outputId": "50a6face-76d5-4e3c-cc3a-6a01b5acd144"
      },
      "source": [
        "sample_dictionary['A']"
      ],
      "execution_count": 3,
      "outputs": [
        {
          "output_type": "execute_result",
          "data": {
            "application/vnd.google.colaboratory.intrinsic+json": {
              "type": "string"
            },
            "text/plain": [
              "'Alpha'"
            ]
          },
          "metadata": {
            "tags": []
          },
          "execution_count": 3
        }
      ]
    },
    {
      "cell_type": "code",
      "metadata": {
        "colab": {
          "base_uri": "https://localhost:8080/",
          "height": 35
        },
        "id": "lwHpJ3om1zAW",
        "outputId": "935cbccc-f41e-471b-943d-01d30c728ff1"
      },
      "source": [
        "sample_dictionary[1]"
      ],
      "execution_count": 4,
      "outputs": [
        {
          "output_type": "execute_result",
          "data": {
            "application/vnd.google.colaboratory.intrinsic+json": {
              "type": "string"
            },
            "text/plain": [
              "'One'"
            ]
          },
          "metadata": {
            "tags": []
          },
          "execution_count": 4
        }
      ]
    },
    {
      "cell_type": "code",
      "metadata": {
        "colab": {
          "base_uri": "https://localhost:8080/"
        },
        "id": "vu8Hjrgy5J2p",
        "outputId": "4c46d42a-bdfe-4080-bf6d-243fdc87cc66"
      },
      "source": [
        "lst = [1,2,3,4,5,6]\n",
        "lst.index(5)"
      ],
      "execution_count": 6,
      "outputs": [
        {
          "output_type": "execute_result",
          "data": {
            "text/plain": [
              "4"
            ]
          },
          "metadata": {
            "tags": []
          },
          "execution_count": 6
        }
      ]
    },
    {
      "cell_type": "code",
      "metadata": {
        "id": "lhJqPY_J13oP"
      },
      "source": [
        "Input 1. An Array A of size N, A = [1,2,3,4,5,6,20]\n",
        "Input 2. A number n, 6\n",
        "\n",
        "1 \n",
        "6-1 = 5\n",
        "0:[1,5]\n",
        "1:[2,4]\n",
        "\n",
        "pairs_indices =[(0,4),(1,3)]\n",
        "(0,4)\n",
        "\n",
        "Brute Force Approach!\n",
        "\n",
        "Straight forward computationally intensive search based algorithm!\n",
        "Can you write more easy approach? \n",
        "\n",
        "\n",
        "You will find the unique indices for which the value add up to the number n.\n",
        "if you have multiple indices that correspond to the sum, give me the \n",
        "pair with the least 1st index!"
      ],
      "execution_count": null,
      "outputs": []
    },
    {
      "cell_type": "code",
      "metadata": {
        "id": "odoZ2wyXzlwI"
      },
      "source": [
        "Oxford \n",
        "Key:        Value: \n",
        "Education - Process through which you teach something to people \n"
      ],
      "execution_count": null,
      "outputs": []
    },
    {
      "cell_type": "code",
      "metadata": {
        "colab": {
          "base_uri": "https://localhost:8080/",
          "height": 35
        },
        "id": "WuP3Z1Fa4q9-",
        "outputId": "d8437e85-d971-4d4e-fda7-e215f252a697"
      },
      "source": [
        "# String\n",
        "\"\"\"\n",
        "1. Strings can be retrieved using index\n",
        "2. Stings are immutable\n",
        "\"\"\""
      ],
      "execution_count": 7,
      "outputs": [
        {
          "output_type": "execute_result",
          "data": {
            "application/vnd.google.colaboratory.intrinsic+json": {
              "type": "string"
            },
            "text/plain": [
              "'\\n1. Strings can be retrieved using index\\n2. Stings are immutable\\n'"
            ]
          },
          "metadata": {
            "tags": []
          },
          "execution_count": 7
        }
      ]
    },
    {
      "cell_type": "code",
      "metadata": {
        "id": "ubSlaNA95qtL"
      },
      "source": [
        "a = \"Hi how are you?\"\n",
        "b= \"Laxmi\""
      ],
      "execution_count": 8,
      "outputs": []
    },
    {
      "cell_type": "code",
      "metadata": {
        "colab": {
          "base_uri": "https://localhost:8080/"
        },
        "id": "vhecZhF05qwk",
        "outputId": "06b33457-a801-41ad-9c53-fa9bb8f68d68"
      },
      "source": [
        "type(a)"
      ],
      "execution_count": 10,
      "outputs": [
        {
          "output_type": "execute_result",
          "data": {
            "text/plain": [
              "str"
            ]
          },
          "metadata": {
            "tags": []
          },
          "execution_count": 10
        }
      ]
    },
    {
      "cell_type": "code",
      "metadata": {
        "colab": {
          "base_uri": "https://localhost:8080/"
        },
        "id": "1T9r9LyC5qzb",
        "outputId": "1ad62c6c-7a6e-4761-cdfa-541c40993bf2"
      },
      "source": [
        "len(a)"
      ],
      "execution_count": 11,
      "outputs": [
        {
          "output_type": "execute_result",
          "data": {
            "text/plain": [
              "15"
            ]
          },
          "metadata": {
            "tags": []
          },
          "execution_count": 11
        }
      ]
    },
    {
      "cell_type": "code",
      "metadata": {
        "colab": {
          "base_uri": "https://localhost:8080/"
        },
        "id": "PWq9FlsF6MWx",
        "outputId": "fec6e09f-75ae-4fd5-82ea-8b74c111d0ac"
      },
      "source": [
        "print(a[2:5])"
      ],
      "execution_count": 12,
      "outputs": [
        {
          "output_type": "stream",
          "text": [
            " ho\n"
          ],
          "name": "stdout"
        }
      ]
    },
    {
      "cell_type": "code",
      "metadata": {
        "colab": {
          "base_uri": "https://localhost:8080/"
        },
        "id": "2O4mw49Z6MZr",
        "outputId": "cd01ec3f-03fe-4935-da8a-08f44bc891a1"
      },
      "source": [
        "in_ = input(\"Enter a number:\")\n",
        "type(in_)"
      ],
      "execution_count": 14,
      "outputs": [
        {
          "output_type": "stream",
          "text": [
            "Enter a number:56\n"
          ],
          "name": "stdout"
        },
        {
          "output_type": "execute_result",
          "data": {
            "text/plain": [
              "str"
            ]
          },
          "metadata": {
            "tags": []
          },
          "execution_count": 14
        }
      ]
    },
    {
      "cell_type": "code",
      "metadata": {
        "id": "pREb0COa7CML"
      },
      "source": [
        "##String Functions\n",
        "A = \"inceptez batch DS\""
      ],
      "execution_count": 17,
      "outputs": []
    },
    {
      "cell_type": "code",
      "metadata": {
        "colab": {
          "base_uri": "https://localhost:8080/",
          "height": 35
        },
        "id": "WyxhtQQ26Mcw",
        "outputId": "9e22e0fa-f93d-4ccf-bcf6-24546cc0c642"
      },
      "source": [
        "A.capitalize()"
      ],
      "execution_count": 18,
      "outputs": [
        {
          "output_type": "execute_result",
          "data": {
            "application/vnd.google.colaboratory.intrinsic+json": {
              "type": "string"
            },
            "text/plain": [
              "'Inceptez batch ds'"
            ]
          },
          "metadata": {
            "tags": []
          },
          "execution_count": 18
        }
      ]
    },
    {
      "cell_type": "code",
      "metadata": {
        "id": "6YxhnNFD6MgT"
      },
      "source": [
        "A = A.upper()"
      ],
      "execution_count": 21,
      "outputs": []
    },
    {
      "cell_type": "code",
      "metadata": {
        "colab": {
          "base_uri": "https://localhost:8080/",
          "height": 35
        },
        "id": "Ab9vTF8w5q2Z",
        "outputId": "4216dfc5-2f0f-4c25-b1dd-bbf5fe923987"
      },
      "source": [
        "A.lower()"
      ],
      "execution_count": 23,
      "outputs": [
        {
          "output_type": "execute_result",
          "data": {
            "application/vnd.google.colaboratory.intrinsic+json": {
              "type": "string"
            },
            "text/plain": [
              "'inceptez batch ds'"
            ]
          },
          "metadata": {
            "tags": []
          },
          "execution_count": 23
        }
      ]
    },
    {
      "cell_type": "code",
      "metadata": {
        "id": "lguqt8TM5q5x"
      },
      "source": [
        "#Multi Line Strings  \n",
        "#First method - ''' '''\n",
        "d = '''This is the method to give multi line strings, \n",
        "And Incepetez is one of the best institutions in \n",
        "chennai'''"
      ],
      "execution_count": 24,
      "outputs": []
    },
    {
      "cell_type": "code",
      "metadata": {
        "id": "DpHOHPcV7rNj"
      },
      "source": [
        "d = \"\"\"The Amazon is one of the best platforms to buy mouse, \n",
        "These mouses are awesome!\"\"\""
      ],
      "execution_count": 26,
      "outputs": []
    },
    {
      "cell_type": "code",
      "metadata": {
        "colab": {
          "base_uri": "https://localhost:8080/"
        },
        "id": "YeS4DIXh7rQO",
        "outputId": "42d5dc2f-2ee0-4cfb-f44c-d81487072bea"
      },
      "source": [
        "print(d)"
      ],
      "execution_count": 28,
      "outputs": [
        {
          "output_type": "stream",
          "text": [
            "The Amazon is one of the best platforms to buy mouse, \n",
            "These mouses are awesome!\n"
          ],
          "name": "stdout"
        }
      ]
    },
    {
      "cell_type": "code",
      "metadata": {
        "id": "kiOEu9QK7rTV"
      },
      "source": [
        "#Unicode Characters \n",
        "#UTF-8 defaukt format for storing the characters 8-bit 1x1byte-4x1byte units to store the data"
      ],
      "execution_count": null,
      "outputs": []
    },
    {
      "cell_type": "code",
      "metadata": {
        "colab": {
          "base_uri": "https://localhost:8080/"
        },
        "id": "C8QPf7-l7rVn",
        "outputId": "455e41df-9c22-44dc-bc1a-6a89e298da66"
      },
      "source": [
        "#encodings in python\n",
        "from encodings.aliases import aliases\n",
        "aliases"
      ],
      "execution_count": 112,
      "outputs": [
        {
          "output_type": "execute_result",
          "data": {
            "text/plain": [
              "{'037': 'cp037',\n",
              " '1026': 'cp1026',\n",
              " '1125': 'cp1125',\n",
              " '1140': 'cp1140',\n",
              " '1250': 'cp1250',\n",
              " '1251': 'cp1251',\n",
              " '1252': 'cp1252',\n",
              " '1253': 'cp1253',\n",
              " '1254': 'cp1254',\n",
              " '1255': 'cp1255',\n",
              " '1256': 'cp1256',\n",
              " '1257': 'cp1257',\n",
              " '1258': 'cp1258',\n",
              " '273': 'cp273',\n",
              " '424': 'cp424',\n",
              " '437': 'cp437',\n",
              " '500': 'cp500',\n",
              " '646': 'ascii',\n",
              " '775': 'cp775',\n",
              " '850': 'cp850',\n",
              " '852': 'cp852',\n",
              " '855': 'cp855',\n",
              " '857': 'cp857',\n",
              " '858': 'cp858',\n",
              " '860': 'cp860',\n",
              " '861': 'cp861',\n",
              " '862': 'cp862',\n",
              " '863': 'cp863',\n",
              " '864': 'cp864',\n",
              " '865': 'cp865',\n",
              " '866': 'cp866',\n",
              " '869': 'cp869',\n",
              " '8859': 'latin_1',\n",
              " '932': 'cp932',\n",
              " '936': 'gbk',\n",
              " '949': 'cp949',\n",
              " '950': 'cp950',\n",
              " 'ansi': 'mbcs',\n",
              " 'ansi_x3.4_1968': 'ascii',\n",
              " 'ansi_x3.4_1986': 'ascii',\n",
              " 'ansi_x3_4_1968': 'ascii',\n",
              " 'arabic': 'iso8859_6',\n",
              " 'asmo_708': 'iso8859_6',\n",
              " 'base64': 'base64_codec',\n",
              " 'base_64': 'base64_codec',\n",
              " 'big5_hkscs': 'big5hkscs',\n",
              " 'big5_tw': 'big5',\n",
              " 'bz2': 'bz2_codec',\n",
              " 'chinese': 'gb2312',\n",
              " 'cp1361': 'johab',\n",
              " 'cp154': 'ptcp154',\n",
              " 'cp367': 'ascii',\n",
              " 'cp819': 'latin_1',\n",
              " 'cp866u': 'cp1125',\n",
              " 'cp936': 'gbk',\n",
              " 'cp_gr': 'cp869',\n",
              " 'cp_is': 'cp861',\n",
              " 'csHPRoman8': 'hp_roman8',\n",
              " 'csascii': 'ascii',\n",
              " 'csbig5': 'big5',\n",
              " 'csibm037': 'cp037',\n",
              " 'csibm1026': 'cp1026',\n",
              " 'csibm273': 'cp273',\n",
              " 'csibm424': 'cp424',\n",
              " 'csibm500': 'cp500',\n",
              " 'csibm855': 'cp855',\n",
              " 'csibm857': 'cp857',\n",
              " 'csibm858': 'cp858',\n",
              " 'csibm860': 'cp860',\n",
              " 'csibm861': 'cp861',\n",
              " 'csibm863': 'cp863',\n",
              " 'csibm864': 'cp864',\n",
              " 'csibm865': 'cp865',\n",
              " 'csibm866': 'cp866',\n",
              " 'csibm869': 'cp869',\n",
              " 'csiso2022jp': 'iso2022_jp',\n",
              " 'csiso2022kr': 'iso2022_kr',\n",
              " 'csiso58gb231280': 'gb2312',\n",
              " 'csisolatin1': 'latin_1',\n",
              " 'csisolatin2': 'iso8859_2',\n",
              " 'csisolatin3': 'iso8859_3',\n",
              " 'csisolatin4': 'iso8859_4',\n",
              " 'csisolatin5': 'iso8859_9',\n",
              " 'csisolatin6': 'iso8859_10',\n",
              " 'csisolatinarabic': 'iso8859_6',\n",
              " 'csisolatincyrillic': 'iso8859_5',\n",
              " 'csisolatingreek': 'iso8859_7',\n",
              " 'csisolatinhebrew': 'iso8859_8',\n",
              " 'cskoi8r': 'koi8_r',\n",
              " 'cspc775baltic': 'cp775',\n",
              " 'cspc850multilingual': 'cp850',\n",
              " 'cspc862latinhebrew': 'cp862',\n",
              " 'cspc8codepage437': 'cp437',\n",
              " 'cspcp852': 'cp852',\n",
              " 'csptcp154': 'ptcp154',\n",
              " 'csshiftjis': 'shift_jis',\n",
              " 'cyrillic': 'iso8859_5',\n",
              " 'cyrillic_asian': 'ptcp154',\n",
              " 'dbcs': 'mbcs',\n",
              " 'ebcdic_cp_be': 'cp500',\n",
              " 'ebcdic_cp_ca': 'cp037',\n",
              " 'ebcdic_cp_ch': 'cp500',\n",
              " 'ebcdic_cp_he': 'cp424',\n",
              " 'ebcdic_cp_nl': 'cp037',\n",
              " 'ebcdic_cp_us': 'cp037',\n",
              " 'ebcdic_cp_wt': 'cp037',\n",
              " 'ecma_114': 'iso8859_6',\n",
              " 'ecma_118': 'iso8859_7',\n",
              " 'elot_928': 'iso8859_7',\n",
              " 'euc_cn': 'gb2312',\n",
              " 'euc_jis2004': 'euc_jis_2004',\n",
              " 'euccn': 'gb2312',\n",
              " 'eucgb2312_cn': 'gb2312',\n",
              " 'eucjis2004': 'euc_jis_2004',\n",
              " 'eucjisx0213': 'euc_jisx0213',\n",
              " 'eucjp': 'euc_jp',\n",
              " 'euckr': 'euc_kr',\n",
              " 'gb18030_2000': 'gb18030',\n",
              " 'gb2312_1980': 'gb2312',\n",
              " 'gb2312_80': 'gb2312',\n",
              " 'greek': 'iso8859_7',\n",
              " 'greek8': 'iso8859_7',\n",
              " 'hebrew': 'iso8859_8',\n",
              " 'hex': 'hex_codec',\n",
              " 'hkscs': 'big5hkscs',\n",
              " 'hz_gb': 'hz',\n",
              " 'hz_gb_2312': 'hz',\n",
              " 'hzgb': 'hz',\n",
              " 'ibm037': 'cp037',\n",
              " 'ibm039': 'cp037',\n",
              " 'ibm1026': 'cp1026',\n",
              " 'ibm1125': 'cp1125',\n",
              " 'ibm1140': 'cp1140',\n",
              " 'ibm273': 'cp273',\n",
              " 'ibm367': 'ascii',\n",
              " 'ibm424': 'cp424',\n",
              " 'ibm437': 'cp437',\n",
              " 'ibm500': 'cp500',\n",
              " 'ibm775': 'cp775',\n",
              " 'ibm819': 'latin_1',\n",
              " 'ibm850': 'cp850',\n",
              " 'ibm852': 'cp852',\n",
              " 'ibm855': 'cp855',\n",
              " 'ibm857': 'cp857',\n",
              " 'ibm858': 'cp858',\n",
              " 'ibm860': 'cp860',\n",
              " 'ibm861': 'cp861',\n",
              " 'ibm862': 'cp862',\n",
              " 'ibm863': 'cp863',\n",
              " 'ibm864': 'cp864',\n",
              " 'ibm865': 'cp865',\n",
              " 'ibm866': 'cp866',\n",
              " 'ibm869': 'cp869',\n",
              " 'iso2022jp': 'iso2022_jp',\n",
              " 'iso2022jp_1': 'iso2022_jp_1',\n",
              " 'iso2022jp_2': 'iso2022_jp_2',\n",
              " 'iso2022jp_2004': 'iso2022_jp_2004',\n",
              " 'iso2022jp_3': 'iso2022_jp_3',\n",
              " 'iso2022jp_ext': 'iso2022_jp_ext',\n",
              " 'iso2022kr': 'iso2022_kr',\n",
              " 'iso646_us': 'ascii',\n",
              " 'iso8859': 'latin_1',\n",
              " 'iso8859_1': 'latin_1',\n",
              " 'iso_2022_jp': 'iso2022_jp',\n",
              " 'iso_2022_jp_1': 'iso2022_jp_1',\n",
              " 'iso_2022_jp_2': 'iso2022_jp_2',\n",
              " 'iso_2022_jp_2004': 'iso2022_jp_2004',\n",
              " 'iso_2022_jp_3': 'iso2022_jp_3',\n",
              " 'iso_2022_jp_ext': 'iso2022_jp_ext',\n",
              " 'iso_2022_kr': 'iso2022_kr',\n",
              " 'iso_646.irv_1991': 'ascii',\n",
              " 'iso_8859_1': 'latin_1',\n",
              " 'iso_8859_10': 'iso8859_10',\n",
              " 'iso_8859_10_1992': 'iso8859_10',\n",
              " 'iso_8859_11': 'iso8859_11',\n",
              " 'iso_8859_11_2001': 'iso8859_11',\n",
              " 'iso_8859_13': 'iso8859_13',\n",
              " 'iso_8859_14': 'iso8859_14',\n",
              " 'iso_8859_14_1998': 'iso8859_14',\n",
              " 'iso_8859_15': 'iso8859_15',\n",
              " 'iso_8859_16': 'iso8859_16',\n",
              " 'iso_8859_16_2001': 'iso8859_16',\n",
              " 'iso_8859_1_1987': 'latin_1',\n",
              " 'iso_8859_2': 'iso8859_2',\n",
              " 'iso_8859_2_1987': 'iso8859_2',\n",
              " 'iso_8859_3': 'iso8859_3',\n",
              " 'iso_8859_3_1988': 'iso8859_3',\n",
              " 'iso_8859_4': 'iso8859_4',\n",
              " 'iso_8859_4_1988': 'iso8859_4',\n",
              " 'iso_8859_5': 'iso8859_5',\n",
              " 'iso_8859_5_1988': 'iso8859_5',\n",
              " 'iso_8859_6': 'iso8859_6',\n",
              " 'iso_8859_6_1987': 'iso8859_6',\n",
              " 'iso_8859_7': 'iso8859_7',\n",
              " 'iso_8859_7_1987': 'iso8859_7',\n",
              " 'iso_8859_8': 'iso8859_8',\n",
              " 'iso_8859_8_1988': 'iso8859_8',\n",
              " 'iso_8859_9': 'iso8859_9',\n",
              " 'iso_8859_9_1989': 'iso8859_9',\n",
              " 'iso_celtic': 'iso8859_14',\n",
              " 'iso_ir_100': 'latin_1',\n",
              " 'iso_ir_101': 'iso8859_2',\n",
              " 'iso_ir_109': 'iso8859_3',\n",
              " 'iso_ir_110': 'iso8859_4',\n",
              " 'iso_ir_126': 'iso8859_7',\n",
              " 'iso_ir_127': 'iso8859_6',\n",
              " 'iso_ir_138': 'iso8859_8',\n",
              " 'iso_ir_144': 'iso8859_5',\n",
              " 'iso_ir_148': 'iso8859_9',\n",
              " 'iso_ir_157': 'iso8859_10',\n",
              " 'iso_ir_166': 'tis_620',\n",
              " 'iso_ir_199': 'iso8859_14',\n",
              " 'iso_ir_226': 'iso8859_16',\n",
              " 'iso_ir_58': 'gb2312',\n",
              " 'iso_ir_6': 'ascii',\n",
              " 'jisx0213': 'euc_jis_2004',\n",
              " 'korean': 'euc_kr',\n",
              " 'ks_c_5601': 'euc_kr',\n",
              " 'ks_c_5601_1987': 'euc_kr',\n",
              " 'ks_x_1001': 'euc_kr',\n",
              " 'ksc5601': 'euc_kr',\n",
              " 'ksx1001': 'euc_kr',\n",
              " 'kz_1048': 'kz1048',\n",
              " 'l1': 'latin_1',\n",
              " 'l10': 'iso8859_16',\n",
              " 'l2': 'iso8859_2',\n",
              " 'l3': 'iso8859_3',\n",
              " 'l4': 'iso8859_4',\n",
              " 'l5': 'iso8859_9',\n",
              " 'l6': 'iso8859_10',\n",
              " 'l7': 'iso8859_13',\n",
              " 'l8': 'iso8859_14',\n",
              " 'l9': 'iso8859_15',\n",
              " 'latin': 'latin_1',\n",
              " 'latin1': 'latin_1',\n",
              " 'latin10': 'iso8859_16',\n",
              " 'latin2': 'iso8859_2',\n",
              " 'latin3': 'iso8859_3',\n",
              " 'latin4': 'iso8859_4',\n",
              " 'latin5': 'iso8859_9',\n",
              " 'latin6': 'iso8859_10',\n",
              " 'latin7': 'iso8859_13',\n",
              " 'latin8': 'iso8859_14',\n",
              " 'latin9': 'iso8859_15',\n",
              " 'maccentraleurope': 'mac_latin2',\n",
              " 'maccyrillic': 'mac_cyrillic',\n",
              " 'macgreek': 'mac_greek',\n",
              " 'maciceland': 'mac_iceland',\n",
              " 'macintosh': 'mac_roman',\n",
              " 'maclatin2': 'mac_latin2',\n",
              " 'macroman': 'mac_roman',\n",
              " 'macturkish': 'mac_turkish',\n",
              " 'ms1361': 'johab',\n",
              " 'ms932': 'cp932',\n",
              " 'ms936': 'gbk',\n",
              " 'ms949': 'cp949',\n",
              " 'ms950': 'cp950',\n",
              " 'ms_kanji': 'cp932',\n",
              " 'mskanji': 'cp932',\n",
              " 'pt154': 'ptcp154',\n",
              " 'quopri': 'quopri_codec',\n",
              " 'quoted_printable': 'quopri_codec',\n",
              " 'quotedprintable': 'quopri_codec',\n",
              " 'r8': 'hp_roman8',\n",
              " 'rk1048': 'kz1048',\n",
              " 'roman8': 'hp_roman8',\n",
              " 'rot13': 'rot_13',\n",
              " 'ruscii': 'cp1125',\n",
              " 's_jis': 'shift_jis',\n",
              " 's_jis_2004': 'shift_jis_2004',\n",
              " 's_jisx0213': 'shift_jisx0213',\n",
              " 'shiftjis': 'shift_jis',\n",
              " 'shiftjis2004': 'shift_jis_2004',\n",
              " 'shiftjisx0213': 'shift_jisx0213',\n",
              " 'sjis': 'shift_jis',\n",
              " 'sjis_2004': 'shift_jis_2004',\n",
              " 'sjisx0213': 'shift_jisx0213',\n",
              " 'strk1048_2002': 'kz1048',\n",
              " 'thai': 'iso8859_11',\n",
              " 'tis260': 'tactis',\n",
              " 'tis620': 'tis_620',\n",
              " 'tis_620_0': 'tis_620',\n",
              " 'tis_620_2529_0': 'tis_620',\n",
              " 'tis_620_2529_1': 'tis_620',\n",
              " 'u16': 'utf_16',\n",
              " 'u32': 'utf_32',\n",
              " 'u7': 'utf_7',\n",
              " 'u8': 'utf_8',\n",
              " 'u_jis': 'euc_jp',\n",
              " 'uhc': 'cp949',\n",
              " 'ujis': 'euc_jp',\n",
              " 'unicode_1_1_utf_7': 'utf_7',\n",
              " 'unicodebigunmarked': 'utf_16_be',\n",
              " 'unicodelittleunmarked': 'utf_16_le',\n",
              " 'us': 'ascii',\n",
              " 'us_ascii': 'ascii',\n",
              " 'utf': 'utf_8',\n",
              " 'utf16': 'utf_16',\n",
              " 'utf32': 'utf_32',\n",
              " 'utf7': 'utf_7',\n",
              " 'utf8': 'utf_8',\n",
              " 'utf8_ucs2': 'utf_8',\n",
              " 'utf8_ucs4': 'utf_8',\n",
              " 'utf_16be': 'utf_16_be',\n",
              " 'utf_16le': 'utf_16_le',\n",
              " 'utf_32be': 'utf_32_be',\n",
              " 'utf_32le': 'utf_32_le',\n",
              " 'uu': 'uu_codec',\n",
              " 'windows_1250': 'cp1250',\n",
              " 'windows_1251': 'cp1251',\n",
              " 'windows_1252': 'cp1252',\n",
              " 'windows_1253': 'cp1253',\n",
              " 'windows_1254': 'cp1254',\n",
              " 'windows_1255': 'cp1255',\n",
              " 'windows_1256': 'cp1256',\n",
              " 'windows_1257': 'cp1257',\n",
              " 'windows_1258': 'cp1258',\n",
              " 'x_mac_japanese': 'shift_jis',\n",
              " 'x_mac_korean': 'euc_kr',\n",
              " 'x_mac_simp_chinese': 'gb2312',\n",
              " 'x_mac_trad_chinese': 'big5',\n",
              " 'zip': 'zlib_codec',\n",
              " 'zlib': 'zlib_codec'}"
            ]
          },
          "metadata": {
            "tags": []
          },
          "execution_count": 112
        }
      ]
    },
    {
      "cell_type": "code",
      "metadata": {
        "colab": {
          "base_uri": "https://localhost:8080/"
        },
        "id": "p1B9XGEGU_ke",
        "outputId": "69375166-e2ed-4c88-aa18-187549c79298"
      },
      "source": [
        "len(review)"
      ],
      "execution_count": 116,
      "outputs": [
        {
          "output_type": "execute_result",
          "data": {
            "text/plain": [
              "25"
            ]
          },
          "metadata": {
            "tags": []
          },
          "execution_count": 116
        }
      ]
    },
    {
      "cell_type": "code",
      "metadata": {
        "id": "nVN5x80lVN89"
      },
      "source": [
        "T - 8-24bit\n",
        "h\n",
        "e\n",
        "\n",
        "H\n",
        "e\n"
      ],
      "execution_count": null,
      "outputs": []
    },
    {
      "cell_type": "code",
      "metadata": {
        "colab": {
          "base_uri": "https://localhost:8080/"
        },
        "id": "4srJexsLU2nV",
        "outputId": "5d0ecf93-3968-40e0-e5ac-217d8513fd9f"
      },
      "source": [
        "review = \"The headphones are Broken\"\n",
        "review.encode(\"utf-8\")"
      ],
      "execution_count": 118,
      "outputs": [
        {
          "output_type": "execute_result",
          "data": {
            "text/plain": [
              "b'The headphones are Broken'"
            ]
          },
          "metadata": {
            "tags": []
          },
          "execution_count": 118
        }
      ]
    },
    {
      "cell_type": "code",
      "metadata": {
        "colab": {
          "base_uri": "https://localhost:8080/"
        },
        "id": "22jwWJAz7rYU",
        "outputId": "5ad6adff-64ed-4a72-8783-60e1d477ff69"
      },
      "source": [
        "Sting_ip = \"\"\"The Headphones are Great! Not the size I like but its compatablity with mac systems,\n",
        "with Windows does not perform well\"\"\"\n",
        "\"mac\" in Sting_ip"
      ],
      "execution_count": 114,
      "outputs": [
        {
          "output_type": "execute_result",
          "data": {
            "text/plain": [
              "True"
            ]
          },
          "metadata": {
            "tags": []
          },
          "execution_count": 114
        }
      ]
    },
    {
      "cell_type": "code",
      "metadata": {
        "id": "UHreeFETU2S_"
      },
      "source": [
        ""
      ],
      "execution_count": null,
      "outputs": []
    },
    {
      "cell_type": "code",
      "metadata": {
        "id": "MtUMcZTi7rba"
      },
      "source": [
        "Sting_ip = \"\"\"The Headphones are Great. \n",
        "Not the size I like. \n",
        "But its compatablity with mac systems,\n",
        "with Windows does not perform well.\"\"\""
      ],
      "execution_count": 67,
      "outputs": []
    },
    {
      "cell_type": "code",
      "metadata": {
        "id": "fZxAhVzJ7rdj"
      },
      "source": [
        "Sting_ip.split('.')"
      ],
      "execution_count": null,
      "outputs": []
    },
    {
      "cell_type": "code",
      "metadata": {
        "colab": {
          "base_uri": "https://localhost:8080/",
          "height": 35
        },
        "id": "cmpioWXc7rf8",
        "outputId": "437b6cdc-5c10-419e-da18-89e55146fc01"
      },
      "source": [
        "review = \"**************************** The headphones are the worst!!!!!!!!!!!!!! Such a waste of money!\"\n",
        "review.lstrip('* ')"
      ],
      "execution_count": 37,
      "outputs": [
        {
          "output_type": "execute_result",
          "data": {
            "application/vnd.google.colaboratory.intrinsic+json": {
              "type": "string"
            },
            "text/plain": [
              "'The headphones are the worst!!!!!!!!!!!!!! Such a waste of money!'"
            ]
          },
          "metadata": {
            "tags": []
          },
          "execution_count": 37
        }
      ]
    },
    {
      "cell_type": "code",
      "metadata": {
        "colab": {
          "base_uri": "https://localhost:8080/",
          "height": 35
        },
        "id": "hPXPHCdM7ri-",
        "outputId": "8fe9b20c-5ee4-4531-cb7d-f3d9d1d61188"
      },
      "source": [
        "review = \"The headphones are the worst!!!!!!!!!!!!!! Such a waste of money--,,,!**************************** \"\n",
        "review.rstrip(' *!')"
      ],
      "execution_count": 66,
      "outputs": [
        {
          "output_type": "execute_result",
          "data": {
            "application/vnd.google.colaboratory.intrinsic+json": {
              "type": "string"
            },
            "text/plain": [
              "'The headphones are the worst!!!!!!!!!!!!!! Such a waste of money--,,,'"
            ]
          },
          "metadata": {
            "tags": []
          },
          "execution_count": 66
        }
      ]
    },
    {
      "cell_type": "code",
      "metadata": {
        "id": "Ce0TP2li7rlr"
      },
      "source": [
        "##join Function \n",
        "#DELIMITER - Seperator! \n",
        "Sting_ip = \"Inceptez is one of the best places to learn DS\"\n",
        "#print(Sting_ip.split())\n",
        "String_dash = \"_\".join(Sting_ip.split())\n",
        "\n",
        "#Iterable - A structure which holds multiple through which you can iterate"
      ],
      "execution_count": 70,
      "outputs": []
    },
    {
      "cell_type": "code",
      "metadata": {
        "colab": {
          "base_uri": "https://localhost:8080/",
          "height": 35
        },
        "id": "4KYdPIxr7ro-",
        "outputId": "05203d11-578d-44e1-e47d-5f5a61176ac0"
      },
      "source": [
        "\" \".join(String_dash.split(\"_\"))"
      ],
      "execution_count": 72,
      "outputs": [
        {
          "output_type": "execute_result",
          "data": {
            "application/vnd.google.colaboratory.intrinsic+json": {
              "type": "string"
            },
            "text/plain": [
              "'Inceptez is one of the best places to learn DS'"
            ]
          },
          "metadata": {
            "tags": []
          },
          "execution_count": 72
        }
      ]
    },
    {
      "cell_type": "code",
      "metadata": {
        "colab": {
          "base_uri": "https://localhost:8080/"
        },
        "id": "feCqfD7v7rre",
        "outputId": "8912ab11-15d7-40c7-f8fd-28c4b72ade0b"
      },
      "source": [
        "Sting_ip.split()\n",
        "Signature: Syntax\n",
        "Docstring: Usage explanation"
      ],
      "execution_count": 73,
      "outputs": [
        {
          "output_type": "execute_result",
          "data": {
            "text/plain": [
              "['Inceptez', 'is', 'one', 'of', 'the', 'best', 'places', 'to', 'learn', 'DS']"
            ]
          },
          "metadata": {
            "tags": []
          },
          "execution_count": 73
        }
      ]
    },
    {
      "cell_type": "code",
      "metadata": {
        "id": "qvvsCuF37rxC"
      },
      "source": [
        "lst = [1,2,3,4,5]\n",
        "lst.append(4)"
      ],
      "execution_count": 84,
      "outputs": []
    },
    {
      "cell_type": "code",
      "metadata": {
        "colab": {
          "base_uri": "https://localhost:8080/",
          "height": 35
        },
        "id": "0Jp-mCmI7r2y",
        "outputId": "8783f1e8-dc0e-4854-d628-87438457b606"
      },
      "source": [
        "review = \"There are 3 apples in the table. 4 green apples and 5 red apples\"\n",
        "review.replace(\"apples\",'oranges')"
      ],
      "execution_count": 88,
      "outputs": [
        {
          "output_type": "execute_result",
          "data": {
            "application/vnd.google.colaboratory.intrinsic+json": {
              "type": "string"
            },
            "text/plain": [
              "'There are 3 oranges in the table. 4 green oranges and 5 red oranges'"
            ]
          },
          "metadata": {
            "tags": []
          },
          "execution_count": 88
        }
      ]
    },
    {
      "cell_type": "code",
      "metadata": {
        "id": "jP9N751DIniz"
      },
      "source": [
        "##Type conversion! \n",
        "#Converting from one Data type to another "
      ],
      "execution_count": 90,
      "outputs": []
    },
    {
      "cell_type": "code",
      "metadata": {
        "colab": {
          "base_uri": "https://localhost:8080/"
        },
        "id": "45ugbgaFInmu",
        "outputId": "f7ad1124-6c7e-4126-f410-59c0804b9ec7"
      },
      "source": [
        "S = 'Abdul'\n",
        "print(\"Type is: \",type(S))"
      ],
      "execution_count": 92,
      "outputs": [
        {
          "output_type": "stream",
          "text": [
            "Type is:  <class 'str'>\n"
          ],
          "name": "stdout"
        }
      ]
    },
    {
      "cell_type": "code",
      "metadata": {
        "colab": {
          "base_uri": "https://localhost:8080/"
        },
        "id": "TZr4RbhDInqm",
        "outputId": "e95b5c2a-50f9-46a3-8628-63f0ea866bb2"
      },
      "source": [
        "list(S)"
      ],
      "execution_count": 94,
      "outputs": [
        {
          "output_type": "execute_result",
          "data": {
            "text/plain": [
              "['A', 'b', 'd', 'u', 'l']"
            ]
          },
          "metadata": {
            "tags": []
          },
          "execution_count": 94
        }
      ]
    },
    {
      "cell_type": "code",
      "metadata": {
        "colab": {
          "base_uri": "https://localhost:8080/"
        },
        "id": "MGsxeRDXInsj",
        "outputId": "bf5378b6-8652-4906-bfa5-10ec4814603d"
      },
      "source": [
        "#2. Write a code that returns just the unique alphabets in your name \n",
        "#in lowercase\n",
        "name = 'Laxmi'\n",
        "name = name.lower()\n",
        "print(\"\".join(set(name)))"
      ],
      "execution_count": 98,
      "outputs": [
        {
          "output_type": "stream",
          "text": [
            "maxli\n"
          ],
          "name": "stdout"
        }
      ]
    },
    {
      "cell_type": "code",
      "metadata": {
        "id": "S29nlNyCInvu"
      },
      "source": [
        "lst1 = [1,2,3,4,5]\n",
        "lst2 = lst1\n",
        "lst2[2] = 20\n",
        "#Not penalising the SC"
      ],
      "execution_count": 99,
      "outputs": []
    },
    {
      "cell_type": "code",
      "metadata": {
        "colab": {
          "base_uri": "https://localhost:8080/"
        },
        "id": "yw8aLeOdInzT",
        "outputId": "b7e1da90-ec51-45a8-c899-7efc989723a0"
      },
      "source": [
        "lst2"
      ],
      "execution_count": 100,
      "outputs": [
        {
          "output_type": "execute_result",
          "data": {
            "text/plain": [
              "[1, 2, 20, 4, 5]"
            ]
          },
          "metadata": {
            "tags": []
          },
          "execution_count": 100
        }
      ]
    },
    {
      "cell_type": "code",
      "metadata": {
        "colab": {
          "base_uri": "https://localhost:8080/"
        },
        "id": "nUqjgWneIn1t",
        "outputId": "6b997810-1cfe-4ee5-a774-bc7c421026da"
      },
      "source": [
        "lst1"
      ],
      "execution_count": 101,
      "outputs": [
        {
          "output_type": "execute_result",
          "data": {
            "text/plain": [
              "[1, 2, 20, 4, 5]"
            ]
          },
          "metadata": {
            "tags": []
          },
          "execution_count": 101
        }
      ]
    },
    {
      "cell_type": "code",
      "metadata": {
        "id": "d_e66vi_In4T"
      },
      "source": [
        "'copy using ='\n",
        "'copy using the copy() fnct' -  "
      ],
      "execution_count": null,
      "outputs": []
    },
    {
      "cell_type": "code",
      "metadata": {
        "colab": {
          "base_uri": "https://localhost:8080/"
        },
        "id": "rbjyL7PXIn8F",
        "outputId": "b6a40f39-b4b7-42f3-c979-c0824eed09cb"
      },
      "source": [
        "lst1 = [1,2,3,4,5]\n",
        "lst2 = lst1.copy()\n",
        "lst2[2] = 20\n",
        "lst2\n",
        "#Penalizing the Space Complexity! "
      ],
      "execution_count": 102,
      "outputs": [
        {
          "output_type": "execute_result",
          "data": {
            "text/plain": [
              "[1, 2, 20, 4, 5]"
            ]
          },
          "metadata": {
            "tags": []
          },
          "execution_count": 102
        }
      ]
    },
    {
      "cell_type": "code",
      "metadata": {
        "colab": {
          "base_uri": "https://localhost:8080/"
        },
        "id": "iKUECDhKIn-1",
        "outputId": "9de4a7b5-2baf-49bc-b431-e5409e68b0d1"
      },
      "source": [
        "lst1"
      ],
      "execution_count": 103,
      "outputs": [
        {
          "output_type": "execute_result",
          "data": {
            "text/plain": [
              "[1, 2, 3, 4, 5]"
            ]
          },
          "metadata": {
            "tags": []
          },
          "execution_count": 103
        }
      ]
    },
    {
      "cell_type": "code",
      "metadata": {
        "colab": {
          "base_uri": "https://localhost:8080/"
        },
        "id": "N_fSwxPDIoBL",
        "outputId": "9ea13495-f1fe-44cb-e9d8-b5d435973b6e"
      },
      "source": [
        "#this is same as Copy\n",
        "lst1 = [1,2,3,4,5]\n",
        "lst2 = lst1[:]\n",
        "lst2[2] = 20\n",
        "lst2\n",
        "\n",
        "#Space Complexity! \\"
      ],
      "execution_count": 104,
      "outputs": [
        {
          "output_type": "execute_result",
          "data": {
            "text/plain": [
              "[1, 2, 20, 4, 5]"
            ]
          },
          "metadata": {
            "tags": []
          },
          "execution_count": 104
        }
      ]
    },
    {
      "cell_type": "code",
      "metadata": {
        "colab": {
          "base_uri": "https://localhost:8080/"
        },
        "id": "E8FDa4au7r6v",
        "outputId": "0319537d-53dd-46a0-92bb-4ecf2d5a25a5"
      },
      "source": [
        "lst1"
      ],
      "execution_count": 105,
      "outputs": [
        {
          "output_type": "execute_result",
          "data": {
            "text/plain": [
              "[1, 2, 3, 4, 5]"
            ]
          },
          "metadata": {
            "tags": []
          },
          "execution_count": 105
        }
      ]
    },
    {
      "cell_type": "code",
      "metadata": {
        "id": "SpXfag8NQN44"
      },
      "source": [
        "HW: \n",
        "1. TC - and one TC for -  replace() - Is replace just a wrapper?\n",
        "2. Space Complexity "
      ],
      "execution_count": null,
      "outputs": []
    },
    {
      "cell_type": "code",
      "metadata": {
        "id": "NEV-vQSiQwYr"
      },
      "source": [
        ""
      ],
      "execution_count": null,
      "outputs": []
    },
    {
      "cell_type": "code",
      "metadata": {
        "id": "QVQW_qWI4rB2"
      },
      "source": [
        "# Conditional loops! \n",
        "use of a condition ask it to perform if the condition satifies if not perform \n",
        "something else!\n",
        "1. condition based approach if you have understood python and Stats and into ML \n",
        "2. if dont understand python or stats but ML started already!"
      ],
      "execution_count": null,
      "outputs": []
    },
    {
      "cell_type": "code",
      "metadata": {
        "id": "tpVT0tz2Rfe_"
      },
      "source": [
        "if ML has started and python = understood and stats = understood:\n",
        "  read ML\n",
        "else if ML has started and python = understood and stats not understood: \n",
        "  read stat+ML\n",
        "else:\n",
        "  read python+stats+ML"
      ],
      "execution_count": null,
      "outputs": []
    },
    {
      "cell_type": "code",
      "metadata": {
        "id": "cRLgwCe6Sk1g"
      },
      "source": [
        "Logical Conditions from mathematics:\n",
        "1. Equals: A == B\n",
        "2. Not Equals: A != B\n",
        "3. Less than: A < B\n",
        "4. Less than or equal to: A<=B\n",
        "5. Greated than: a > b\n",
        "6. Greater than or equal to: A>=b\n",
        "\n",
        "An if is written using key if \n",
        "1. Checks a condition: Satisfied 1) Executes a statement\n",
        "2. Checks a condition: not satisified 2) Else if statement 3)Else statement"
      ],
      "execution_count": null,
      "outputs": []
    },
    {
      "cell_type": "code",
      "metadata": {
        "colab": {
          "base_uri": "https://localhost:8080/"
        },
        "id": "qXf4jNhSS6ma",
        "outputId": "81498329-f718-4906-eb68-d826a9ee3a7a"
      },
      "source": [
        "n = int(input(\"Enter a number\"))\n",
        "if n >= 50:\n",
        "  print(\"Above average\")\n",
        "elif n >=20 and n < 50:\n",
        "  print(\"Below Averge\")\n",
        "else:\n",
        "  print(\"Single digit\")"
      ],
      "execution_count": 109,
      "outputs": [
        {
          "output_type": "stream",
          "text": [
            "Enter a number2\n",
            "Single digit\n"
          ],
          "name": "stdout"
        }
      ]
    },
    {
      "cell_type": "code",
      "metadata": {
        "colab": {
          "base_uri": "https://localhost:8080/"
        },
        "id": "Y7zVHyiqTda2",
        "outputId": "d742ce2c-f6e7-44e8-a576-b2183332df8c"
      },
      "source": [
        "int('23')"
      ],
      "execution_count": 110,
      "outputs": [
        {
          "output_type": "execute_result",
          "data": {
            "text/plain": [
              "23"
            ]
          },
          "metadata": {
            "tags": []
          },
          "execution_count": 110
        }
      ]
    },
    {
      "cell_type": "code",
      "metadata": {
        "colab": {
          "base_uri": "https://localhost:8080/",
          "height": 164
        },
        "id": "3QeadD4XUdIu",
        "outputId": "c71d584a-a1ec-4e69-e2c7-3340385e54b6"
      },
      "source": [
        "int(\"Ab\")"
      ],
      "execution_count": 111,
      "outputs": [
        {
          "output_type": "error",
          "ename": "ValueError",
          "evalue": "ignored",
          "traceback": [
            "\u001b[0;31m---------------------------------------------------------------------------\u001b[0m",
            "\u001b[0;31mValueError\u001b[0m                                Traceback (most recent call last)",
            "\u001b[0;32m<ipython-input-111-27bd1aa73741>\u001b[0m in \u001b[0;36m<module>\u001b[0;34m()\u001b[0m\n\u001b[0;32m----> 1\u001b[0;31m \u001b[0mint\u001b[0m\u001b[0;34m(\u001b[0m\u001b[0;34m\"Ab\"\u001b[0m\u001b[0;34m)\u001b[0m\u001b[0;34m\u001b[0m\u001b[0;34m\u001b[0m\u001b[0m\n\u001b[0m",
            "\u001b[0;31mValueError\u001b[0m: invalid literal for int() with base 10: 'Ab'"
          ]
        }
      ]
    },
    {
      "cell_type": "code",
      "metadata": {
        "id": "EO2j8q9vUfcG"
      },
      "source": [
        ""
      ],
      "execution_count": null,
      "outputs": []
    }
  ]
}