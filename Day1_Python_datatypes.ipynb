{
  "nbformat": 4,
  "nbformat_minor": 0,
  "metadata": {
    "colab": {
      "name": "Day1:Python_datatypes.ipynb",
      "provenance": [],
      "collapsed_sections": [],
      "include_colab_link": true
    },
    "kernelspec": {
      "name": "python3",
      "display_name": "Python 3"
    },
    "language_info": {
      "name": "python"
    }
  },
  "cells": [
    {
      "cell_type": "markdown",
      "metadata": {
        "id": "view-in-github",
        "colab_type": "text"
      },
      "source": [
        "<a href=\"https://colab.research.google.com/github/Ramkumarpk82/Python/blob/main/Day1_Python_datatypes.ipynb\" target=\"_parent\"><img src=\"https://colab.research.google.com/assets/colab-badge.svg\" alt=\"Open In Colab\"/></a>"
      ]
    },
    {
      "cell_type": "code",
      "metadata": {
        "id": "Gsp3ZyzJDgnG"
      },
      "source": [
        "# Lists, Tuples & Sets Samples , Differences"
      ],
      "execution_count": 36,
      "outputs": []
    },
    {
      "cell_type": "code",
      "metadata": {
        "id": "YdP-SfPP-mHB"
      },
      "source": [
        "a = 1+5j"
      ],
      "execution_count": 35,
      "outputs": []
    },
    {
      "cell_type": "code",
      "metadata": {
        "id": "UnjzoKfY-m7y",
        "colab": {
          "base_uri": "https://localhost:8080/"
        },
        "outputId": "1d049181-3c9d-4248-cbc0-4e88d9ffa399"
      },
      "source": [
        "print(type(a))"
      ],
      "execution_count": null,
      "outputs": [
        {
          "output_type": "stream",
          "text": [
            "<class 'complex'>\n"
          ],
          "name": "stdout"
        }
      ]
    },
    {
      "cell_type": "code",
      "metadata": {
        "id": "ZS4Qrecx-nB1"
      },
      "source": [
        "#list \n",
        "'''\n",
        "1. Allows Heterogenous \n",
        "2. Index starts from 0 \n",
        "3. Mutable using index \n",
        "4. []\n",
        "'''\n",
        "sample_list = [1,23,'Inceptez',1+4j]"
      ],
      "execution_count": null,
      "outputs": []
    },
    {
      "cell_type": "code",
      "metadata": {
        "id": "-h4VJR7e-nNN",
        "colab": {
          "base_uri": "https://localhost:8080/"
        },
        "outputId": "09f7ade5-bba4-4fcf-a042-210102704ead"
      },
      "source": [
        "sample_list"
      ],
      "execution_count": null,
      "outputs": [
        {
          "output_type": "execute_result",
          "data": {
            "text/plain": [
              "[1, 23, 'Inceptez', (1+4j)]"
            ]
          },
          "metadata": {
            "tags": []
          },
          "execution_count": 5
        }
      ]
    },
    {
      "cell_type": "code",
      "metadata": {
        "colab": {
          "base_uri": "https://localhost:8080/",
          "height": 37
        },
        "id": "pILIqEAv7ocf",
        "outputId": "3bc4d9db-31ad-45ff-ec25-1d48c72b2d97"
      },
      "source": [
        "sample_list[2]"
      ],
      "execution_count": null,
      "outputs": [
        {
          "output_type": "execute_result",
          "data": {
            "application/vnd.google.colaboratory.intrinsic+json": {
              "type": "string"
            },
            "text/plain": [
              "'Inceptez'"
            ]
          },
          "metadata": {
            "tags": []
          },
          "execution_count": 9
        }
      ]
    },
    {
      "cell_type": "code",
      "metadata": {
        "id": "UOtCoExQ8pb_"
      },
      "source": [
        "#List operations \n",
        "lst = [34,22,89,1,5,67,200]"
      ],
      "execution_count": 2,
      "outputs": []
    },
    {
      "cell_type": "code",
      "metadata": {
        "colab": {
          "base_uri": "https://localhost:8080/"
        },
        "id": "j4KGzlwV-b40",
        "outputId": "aafbda90-4e54-4b82-efa4-40d4bd0b50f9"
      },
      "source": [
        "lst.sort()\n",
        "print(lst)"
      ],
      "execution_count": 3,
      "outputs": [
        {
          "output_type": "stream",
          "text": [
            "[1, 5, 22, 34, 67, 89, 200]\n"
          ],
          "name": "stdout"
        }
      ]
    },
    {
      "cell_type": "code",
      "metadata": {
        "colab": {
          "base_uri": "https://localhost:8080/"
        },
        "id": "WTwGSnTU-ew4",
        "outputId": "95b8847a-a837-47cd-8b26-f857d8457163"
      },
      "source": [
        "# To sort the list in reverse order by default False\n",
        "lst.sort(reverse= True)\n",
        "print(lst)"
      ],
      "execution_count": 4,
      "outputs": [
        {
          "output_type": "stream",
          "text": [
            "[200, 89, 67, 34, 22, 5, 1]\n"
          ],
          "name": "stdout"
        }
      ]
    },
    {
      "cell_type": "code",
      "metadata": {
        "id": "Jp-gJIeq-g0q",
        "colab": {
          "base_uri": "https://localhost:8080/"
        },
        "outputId": "3b23be34-1fc8-432f-a29a-dc7b27c91724"
      },
      "source": [
        "#Append --will add at end\n",
        "lst.append(6)\n",
        "lst"
      ],
      "execution_count": 5,
      "outputs": [
        {
          "output_type": "execute_result",
          "data": {
            "text/plain": [
              "[200, 89, 67, 34, 22, 5, 1, 6]"
            ]
          },
          "metadata": {
            "tags": []
          },
          "execution_count": 5
        }
      ]
    },
    {
      "cell_type": "code",
      "metadata": {
        "id": "N6SoAj_7-g_j",
        "colab": {
          "base_uri": "https://localhost:8080/"
        },
        "outputId": "7a428c15-8ff4-4fb7-9fb8-cb663d8b5dd5"
      },
      "source": [
        "#Replaces value at the given index\n",
        "lst[1] = 99\n",
        "lst"
      ],
      "execution_count": 6,
      "outputs": [
        {
          "output_type": "execute_result",
          "data": {
            "text/plain": [
              "[200, 99, 67, 34, 22, 5, 1, 6]"
            ]
          },
          "metadata": {
            "tags": []
          },
          "execution_count": 6
        }
      ]
    },
    {
      "cell_type": "code",
      "metadata": {
        "id": "mVhhZiUo-hIx"
      },
      "source": [
        "alpha = ['aa','b','B','ab','ac']"
      ],
      "execution_count": 7,
      "outputs": []
    },
    {
      "cell_type": "code",
      "metadata": {
        "id": "HHpYMg5IAnr2",
        "colab": {
          "base_uri": "https://localhost:8080/"
        },
        "outputId": "5bb85c33-70f2-43fc-c507-cf2013feb885"
      },
      "source": [
        "# Sort based on ASCI value ; CAPS has less ASCI than lower case\n",
        "alpha.sort()\n",
        "alpha"
      ],
      "execution_count": 10,
      "outputs": [
        {
          "output_type": "execute_result",
          "data": {
            "text/plain": [
              "['B', 'aa', 'ab', 'ac', 'b']"
            ]
          },
          "metadata": {
            "tags": []
          },
          "execution_count": 10
        }
      ]
    },
    {
      "cell_type": "code",
      "metadata": {
        "id": "35ZehJc6BSoR",
        "colab": {
          "base_uri": "https://localhost:8080/"
        },
        "outputId": "e57703b3-4f91-4435-961d-6444cebc98b0"
      },
      "source": [
        "alpha = sorted(alpha,reverse = True)\n",
        "alpha"
      ],
      "execution_count": 13,
      "outputs": [
        {
          "output_type": "execute_result",
          "data": {
            "text/plain": [
              "['b', 'ac', 'ab', 'aa', 'B']"
            ]
          },
          "metadata": {
            "tags": []
          },
          "execution_count": 13
        }
      ]
    },
    {
      "cell_type": "code",
      "metadata": {
        "id": "846299m1DLF9"
      },
      "source": [
        "# Sort vs Sorted : Sorted in terms of results but Sorted does not return and change the actual list. Sort returns and changes the original list without you needing to write it back! "
      ],
      "execution_count": null,
      "outputs": []
    },
    {
      "cell_type": "code",
      "metadata": {
        "id": "ZcohVwSkBSsr"
      },
      "source": [
        "#ASCII - Americal Standard code for information interchage"
      ],
      "execution_count": 15,
      "outputs": []
    },
    {
      "cell_type": "code",
      "metadata": {
        "id": "N704Bxz6D71B"
      },
      "source": [
        "sam.sort()"
      ],
      "execution_count": null,
      "outputs": []
    },
    {
      "cell_type": "code",
      "metadata": {
        "id": "jyz1WdPDAnzV",
        "colab": {
          "base_uri": "https://localhost:8080/"
        },
        "outputId": "2f23fc94-a246-44e6-f77e-102dacee5816"
      },
      "source": [
        "sam = [1, 50, 22, 34, 67, 89, 200, 6]\n",
        "sam"
      ],
      "execution_count": 18,
      "outputs": [
        {
          "output_type": "execute_result",
          "data": {
            "text/plain": [
              "[1, 50, 22, 34, 67, 89, 200, 6]"
            ]
          },
          "metadata": {
            "tags": []
          },
          "execution_count": 18
        }
      ]
    },
    {
      "cell_type": "code",
      "metadata": {
        "id": "x-RnU7KdCgZ2",
        "colab": {
          "base_uri": "https://localhost:8080/"
        },
        "outputId": "ccf92ab1-81ee-49ba-a9ab-5a70741cfba2"
      },
      "source": [
        "sam.insert(3,1)\n",
        "sam"
      ],
      "execution_count": 22,
      "outputs": [
        {
          "output_type": "execute_result",
          "data": {
            "text/plain": [
              "[1, 50, 22, 1, 1, 1, 1, 34, 67, 89, 200, 6]"
            ]
          },
          "metadata": {
            "tags": []
          },
          "execution_count": 22
        }
      ]
    },
    {
      "cell_type": "code",
      "metadata": {
        "colab": {
          "base_uri": "https://localhost:8080/",
          "height": 162
        },
        "id": "c-wvo5xq377t",
        "outputId": "a0daeb4b-4768-4df2-8e6a-1fc14ab434db"
      },
      "source": [
        "sam.remove(6666)"
      ],
      "execution_count": 24,
      "outputs": [
        {
          "output_type": "error",
          "ename": "ValueError",
          "evalue": "ignored",
          "traceback": [
            "\u001b[0;31m---------------------------------------------------------------------------\u001b[0m",
            "\u001b[0;31mValueError\u001b[0m                                Traceback (most recent call last)",
            "\u001b[0;32m<ipython-input-24-82a42e0b4aa5>\u001b[0m in \u001b[0;36m<module>\u001b[0;34m()\u001b[0m\n\u001b[0;32m----> 1\u001b[0;31m \u001b[0msam\u001b[0m\u001b[0;34m.\u001b[0m\u001b[0mremove\u001b[0m\u001b[0;34m(\u001b[0m\u001b[0;36m6666\u001b[0m\u001b[0;34m)\u001b[0m\u001b[0;34m\u001b[0m\u001b[0;34m\u001b[0m\u001b[0m\n\u001b[0m",
            "\u001b[0;31mValueError\u001b[0m: list.remove(x): x not in list"
          ]
        }
      ]
    },
    {
      "cell_type": "code",
      "metadata": {
        "id": "nUw7QhcZIoAQ"
      },
      "source": [
        "list1 = [1,2,4]\n",
        "sam.append(list1)"
      ],
      "execution_count": null,
      "outputs": []
    },
    {
      "cell_type": "code",
      "metadata": {
        "colab": {
          "base_uri": "https://localhost:8080/",
          "height": 164
        },
        "id": "UCl9ldJPIx1t",
        "outputId": "1f67e919-d64b-4b1c-8341-99f08a4f13e2"
      },
      "source": [
        "sorted(sam)"
      ],
      "execution_count": null,
      "outputs": [
        {
          "output_type": "error",
          "ename": "TypeError",
          "evalue": "ignored",
          "traceback": [
            "\u001b[0;31m---------------------------------------------------------------------------\u001b[0m",
            "\u001b[0;31mTypeError\u001b[0m                                 Traceback (most recent call last)",
            "\u001b[0;32m<ipython-input-68-ea38ede004ff>\u001b[0m in \u001b[0;36m<module>\u001b[0;34m()\u001b[0m\n\u001b[0;32m----> 1\u001b[0;31m \u001b[0msorted\u001b[0m\u001b[0;34m(\u001b[0m\u001b[0msam\u001b[0m\u001b[0;34m)\u001b[0m\u001b[0;34m\u001b[0m\u001b[0;34m\u001b[0m\u001b[0m\n\u001b[0m",
            "\u001b[0;31mTypeError\u001b[0m: '<' not supported between instances of 'list' and 'int'"
          ]
        }
      ]
    },
    {
      "cell_type": "code",
      "metadata": {
        "id": "0Q8Rr2znCgdU"
      },
      "source": [
        "sam[3] = 20"
      ],
      "execution_count": null,
      "outputs": []
    },
    {
      "cell_type": "code",
      "metadata": {
        "colab": {
          "base_uri": "https://localhost:8080/",
          "height": 164
        },
        "id": "iYJCWF7uAn2t",
        "outputId": "2586f4e2-9f09-4101-f4e6-2731c3a565e9"
      },
      "source": [
        "a = sam.pop(20)\n",
        "\n",
        "#IndexError: pop index out of range"
      ],
      "execution_count": null,
      "outputs": [
        {
          "output_type": "error",
          "ename": "IndexError",
          "evalue": "ignored",
          "traceback": [
            "\u001b[0;31m---------------------------------------------------------------------------\u001b[0m",
            "\u001b[0;31mIndexError\u001b[0m                                Traceback (most recent call last)",
            "\u001b[0;32m<ipython-input-47-25da607533b8>\u001b[0m in \u001b[0;36m<module>\u001b[0;34m()\u001b[0m\n\u001b[0;32m----> 1\u001b[0;31m \u001b[0ma\u001b[0m \u001b[0;34m=\u001b[0m \u001b[0msam\u001b[0m\u001b[0;34m.\u001b[0m\u001b[0mpop\u001b[0m\u001b[0;34m(\u001b[0m\u001b[0;36m20\u001b[0m\u001b[0;34m)\u001b[0m\u001b[0;34m\u001b[0m\u001b[0;34m\u001b[0m\u001b[0m\n\u001b[0m",
            "\u001b[0;31mIndexError\u001b[0m: pop index out of range"
          ]
        }
      ]
    },
    {
      "cell_type": "code",
      "metadata": {
        "colab": {
          "base_uri": "https://localhost:8080/"
        },
        "id": "UzfpK4jMFTcd",
        "outputId": "b0a5ccaf-9d14-4826-bac5-954fb079689b"
      },
      "source": [
        "a"
      ],
      "execution_count": null,
      "outputs": [
        {
          "output_type": "execute_result",
          "data": {
            "text/plain": [
              "50"
            ]
          },
          "metadata": {
            "tags": []
          },
          "execution_count": 46
        }
      ]
    },
    {
      "cell_type": "code",
      "metadata": {
        "id": "kcEBprWtAn5x"
      },
      "source": [
        "sam\n",
        "sam.remove(200)"
      ],
      "execution_count": null,
      "outputs": []
    },
    {
      "cell_type": "code",
      "metadata": {
        "colab": {
          "base_uri": "https://localhost:8080/"
        },
        "id": "9VZ3daJ4F5lY",
        "outputId": "3a2856be-f184-4c6d-ccbc-eb89d5f68fbc"
      },
      "source": [
        "sam"
      ],
      "execution_count": null,
      "outputs": [
        {
          "output_type": "execute_result",
          "data": {
            "text/plain": [
              "[22, 16, 34, 67, 89, 6]"
            ]
          },
          "metadata": {
            "tags": []
          },
          "execution_count": 50
        }
      ]
    },
    {
      "cell_type": "code",
      "metadata": {
        "colab": {
          "base_uri": "https://localhost:8080/",
          "height": 181
        },
        "id": "Mpt0-rHbFF5i",
        "outputId": "15a5794e-2946-43f5-d07c-e862ecd087eb"
      },
      "source": [
        "sam.remove(500)\n",
        "#Raises ValueError if the value is not present."
      ],
      "execution_count": null,
      "outputs": [
        {
          "output_type": "error",
          "ename": "ValueError",
          "evalue": "ignored",
          "traceback": [
            "\u001b[0;31m---------------------------------------------------------------------------\u001b[0m",
            "\u001b[0;31mValueError\u001b[0m                                Traceback (most recent call last)",
            "\u001b[0;32m<ipython-input-48-c6f8c9380a4a>\u001b[0m in \u001b[0;36m<module>\u001b[0;34m()\u001b[0m\n\u001b[0;32m----> 1\u001b[0;31m \u001b[0msam\u001b[0m\u001b[0;34m.\u001b[0m\u001b[0mremove\u001b[0m\u001b[0;34m(\u001b[0m\u001b[0;36m500\u001b[0m\u001b[0;34m)\u001b[0m\u001b[0;34m\u001b[0m\u001b[0;34m\u001b[0m\u001b[0m\n\u001b[0m\u001b[1;32m      2\u001b[0m \u001b[0;31m#Raises ValueError if the value is not present.\u001b[0m\u001b[0;34m\u001b[0m\u001b[0;34m\u001b[0m\u001b[0;34m\u001b[0m\u001b[0m\n",
            "\u001b[0;31mValueError\u001b[0m: list.remove(x): x not in list"
          ]
        }
      ]
    },
    {
      "cell_type": "code",
      "metadata": {
        "id": "9SnY7JxYF23u"
      },
      "source": [
        "#No Memory list for list as given by python \n",
        "#RAM ---> Memory error"
      ],
      "execution_count": null,
      "outputs": []
    },
    {
      "cell_type": "code",
      "metadata": {
        "id": "s6t9Bt4oJ95o"
      },
      "source": [
        "Exercise 1: Given an Input list remove the element at index 4 and add it to the 2nd pos + to the end \n",
        "lst = [54,44,22,70,12,52]"
      ],
      "execution_count": null,
      "outputs": []
    },
    {
      "cell_type": "code",
      "metadata": {
        "id": "_D1EzCq-J-R1"
      },
      "source": [
        "Exercise 2: Given a input list and a value, go that B's index look at the value and then insert this at index(of this value) remove first occ\n",
        "Neglecting corner cases\n",
        "lst = [2,3,1,6,7,8,10], B = 1\n",
        "lst = [2,3,1,3,6,7,8,10]\n",
        "lst = [2,1,3,6,7,8,10]"
      ],
      "execution_count": null,
      "outputs": []
    },
    {
      "cell_type": "code",
      "metadata": {
        "id": "6a5L5FpnQAvK"
      },
      "source": [
        "lst = [2,3,1,6,7,8,10]\n",
        "B = 1"
      ],
      "execution_count": null,
      "outputs": []
    },
    {
      "cell_type": "code",
      "metadata": {
        "colab": {
          "base_uri": "https://localhost:8080/"
        },
        "id": "-JC0hbRqQKWl",
        "outputId": "2a796a8a-3920-4ac3-8842-6554e2356ccc"
      },
      "source": [
        "ind_2 = lst.pop(B)\n",
        "ind_2"
      ],
      "execution_count": null,
      "outputs": [
        {
          "output_type": "execute_result",
          "data": {
            "text/plain": [
              "3"
            ]
          },
          "metadata": {
            "tags": []
          },
          "execution_count": 81
        }
      ]
    },
    {
      "cell_type": "code",
      "metadata": {
        "colab": {
          "base_uri": "https://localhost:8080/"
        },
        "id": "uwCpz--JQTeZ",
        "outputId": "1d63e381-594e-4c51-c628-24b28ba54a85"
      },
      "source": [
        "lst.insert(ind_2-1,ind_2)\n",
        "lst"
      ],
      "execution_count": null,
      "outputs": [
        {
          "output_type": "execute_result",
          "data": {
            "text/plain": [
              "[2, 1, 3, 6, 7, 8, 10]"
            ]
          },
          "metadata": {
            "tags": []
          },
          "execution_count": 79
        }
      ]
    },
    {
      "cell_type": "code",
      "metadata": {
        "colab": {
          "base_uri": "https://localhost:8080/"
        },
        "id": "BFecm7RfOemP",
        "outputId": "f4d3a8c2-5c1d-45e0-d94a-125b71f8397f"
      },
      "source": [
        "lst = [54,44,22,70,12,52]\n",
        "len(lst)"
      ],
      "execution_count": null,
      "outputs": [
        {
          "output_type": "execute_result",
          "data": {
            "text/plain": [
              "6"
            ]
          },
          "metadata": {
            "tags": []
          },
          "execution_count": 82
        }
      ]
    },
    {
      "cell_type": "code",
      "metadata": {
        "colab": {
          "base_uri": "https://localhost:8080/"
        },
        "id": "vRXdF044J-VA",
        "outputId": "86d77c1b-a490-4c3d-ff78-e34fee4bff91"
      },
      "source": [
        "## List slicing \n",
        "lst[2:5]\n",
        "#-> @Start ------ @end-1th "
      ],
      "execution_count": null,
      "outputs": [
        {
          "output_type": "execute_result",
          "data": {
            "text/plain": [
              "[22, 70, 12]"
            ]
          },
          "metadata": {
            "tags": []
          },
          "execution_count": 84
        }
      ]
    },
    {
      "cell_type": "code",
      "metadata": {
        "id": "vVmbueBfJ-X5"
      },
      "source": [
        "[start:stop:step]"
      ],
      "execution_count": null,
      "outputs": []
    },
    {
      "cell_type": "code",
      "metadata": {
        "id": "nxT66m8oJ-az"
      },
      "source": [
        "lst = [0,1,2,3,4,5,6,7,8,9,10] #Start - 1 , End - 9 , step - 2"
      ],
      "execution_count": null,
      "outputs": []
    },
    {
      "cell_type": "code",
      "metadata": {
        "colab": {
          "base_uri": "https://localhost:8080/"
        },
        "id": "LYdhYxmZJ5-2",
        "outputId": "f6246e31-e572-4ce8-b4d5-4206831e3565"
      },
      "source": [
        "# start - 6, end - 10 , step - 2\n",
        "lst[5:9:2] "
      ],
      "execution_count": null,
      "outputs": [
        {
          "output_type": "execute_result",
          "data": {
            "text/plain": [
              "[6, 8]"
            ]
          },
          "metadata": {
            "tags": []
          },
          "execution_count": 90
        }
      ]
    },
    {
      "cell_type": "code",
      "metadata": {
        "colab": {
          "base_uri": "https://localhost:8080/"
        },
        "id": "pfZsdh8-ThPF",
        "outputId": "130fc000-88bf-4e56-baec-a8e608e2b002"
      },
      "source": [
        "lst[:]"
      ],
      "execution_count": null,
      "outputs": [
        {
          "output_type": "execute_result",
          "data": {
            "text/plain": [
              "[1, 2, 3, 4, 5, 6, 7, 8, 9, 10]"
            ]
          },
          "metadata": {
            "tags": []
          },
          "execution_count": 91
        }
      ]
    },
    {
      "cell_type": "code",
      "metadata": {
        "id": "hgJ4CjALW0va"
      },
      "source": [
        "lst = [0,1,2,3,4,5,6,7,8,9,10]"
      ],
      "execution_count": null,
      "outputs": []
    },
    {
      "cell_type": "code",
      "metadata": {
        "colab": {
          "base_uri": "https://localhost:8080/"
        },
        "id": "Z2zt72nrXlCq",
        "outputId": "73956cfe-4fdf-4e7a-c765-61835cd3d707"
      },
      "source": [
        "lst[0:]"
      ],
      "execution_count": null,
      "outputs": [
        {
          "output_type": "execute_result",
          "data": {
            "text/plain": [
              "[0, 1, 2, 3, 4, 5, 6, 7, 8, 9, 10]"
            ]
          },
          "metadata": {
            "tags": []
          },
          "execution_count": 99
        }
      ]
    },
    {
      "cell_type": "code",
      "metadata": {
        "colab": {
          "base_uri": "https://localhost:8080/"
        },
        "id": "FYW5E_TxWp2n",
        "outputId": "62f3f2ad-7d5f-4a9e-cd45-deef5565ef74"
      },
      "source": [
        "lst[-1:-10]"
      ],
      "execution_count": null,
      "outputs": [
        {
          "output_type": "execute_result",
          "data": {
            "text/plain": [
              "[]"
            ]
          },
          "metadata": {
            "tags": []
          },
          "execution_count": 95
        }
      ]
    },
    {
      "cell_type": "code",
      "metadata": {
        "colab": {
          "base_uri": "https://localhost:8080/"
        },
        "id": "rosxqMI8XQr7",
        "outputId": "c71aacee-8e41-4cba-b5d9-c3e756f62d2c"
      },
      "source": [
        "lst[-1:1]"
      ],
      "execution_count": null,
      "outputs": [
        {
          "output_type": "execute_result",
          "data": {
            "text/plain": [
              "[]"
            ]
          },
          "metadata": {
            "tags": []
          },
          "execution_count": 96
        }
      ]
    },
    {
      "cell_type": "code",
      "metadata": {
        "colab": {
          "base_uri": "https://localhost:8080/"
        },
        "id": "089TU3fkXGLr",
        "outputId": "c7d39c20-2eb0-4605-d2be-f46d87ecabfd"
      },
      "source": [
        "lst[-1:0]"
      ],
      "execution_count": null,
      "outputs": [
        {
          "output_type": "execute_result",
          "data": {
            "text/plain": [
              "[]"
            ]
          },
          "metadata": {
            "tags": []
          },
          "execution_count": 97
        }
      ]
    },
    {
      "cell_type": "code",
      "metadata": {
        "colab": {
          "base_uri": "https://localhost:8080/"
        },
        "id": "YYSkdLDNXWuv",
        "outputId": "b781d152-74d5-418e-b616-9d8e8eb497e1"
      },
      "source": [
        "lst[-1:]"
      ],
      "execution_count": null,
      "outputs": [
        {
          "output_type": "execute_result",
          "data": {
            "text/plain": [
              "[10]"
            ]
          },
          "metadata": {
            "tags": []
          },
          "execution_count": 98
        }
      ]
    },
    {
      "cell_type": "code",
      "metadata": {
        "colab": {
          "base_uri": "https://localhost:8080/"
        },
        "id": "A3PbMbfOXZcv",
        "outputId": "5fbc7403-b550-4d2c-b54c-8b52a325a167"
      },
      "source": [
        "lst[-11:]"
      ],
      "execution_count": null,
      "outputs": [
        {
          "output_type": "execute_result",
          "data": {
            "text/plain": [
              "[0, 1, 2, 3, 4, 5, 6, 7, 8, 9, 10]"
            ]
          },
          "metadata": {
            "tags": []
          },
          "execution_count": 101
        }
      ]
    },
    {
      "cell_type": "code",
      "metadata": {
        "id": "_h6vXuJSXtQ_"
      },
      "source": [
        "lst[0:100:2] ->0,2,4,6,8,10,12......98\n",
        "lst[:] -> All the elements\n",
        "lst[::-1] -> -1,-2,-3,-4,-5,-6,..........."
      ],
      "execution_count": null,
      "outputs": []
    },
    {
      "cell_type": "code",
      "metadata": {
        "colab": {
          "base_uri": "https://localhost:8080/"
        },
        "id": "ds1BtbZBYta7",
        "outputId": "d4f99718-fc3a-47d1-d5dc-a820c783a3ca"
      },
      "source": [
        "lst[::-1]"
      ],
      "execution_count": null,
      "outputs": [
        {
          "output_type": "execute_result",
          "data": {
            "text/plain": [
              "[10, 9, 8, 7, 6, 5, 4, 3, 2, 1, 0]"
            ]
          },
          "metadata": {
            "tags": []
          },
          "execution_count": 102
        }
      ]
    },
    {
      "cell_type": "code",
      "metadata": {
        "id": "ogztBeIoYuq4"
      },
      "source": [
        "#Tuple \n",
        "\"\"\"\n",
        "1. Allows Heterogenous \n",
        "2. Retrieve using index \n",
        "3. Cannot change the data once declared! - Immutable \n",
        "4. ()\n",
        "\"\"\""
      ],
      "execution_count": null,
      "outputs": []
    },
    {
      "cell_type": "code",
      "metadata": {
        "id": "iU1PK7s3ZKdj"
      },
      "source": [
        "sample_tuple = (1,23,43,54,3.5,'Inceptez',3+3j)"
      ],
      "execution_count": null,
      "outputs": []
    },
    {
      "cell_type": "code",
      "metadata": {
        "colab": {
          "base_uri": "https://localhost:8080/"
        },
        "id": "RAI4VYnLZKf5",
        "outputId": "7d01efcb-41cd-4369-82e8-f1b2d4b60dd3"
      },
      "source": [
        "sample_tuple"
      ],
      "execution_count": null,
      "outputs": [
        {
          "output_type": "execute_result",
          "data": {
            "text/plain": [
              "(1, 23, 43, 54, 3.5, 'Inceptez', (3+3j))"
            ]
          },
          "metadata": {
            "tags": []
          },
          "execution_count": 104
        }
      ]
    },
    {
      "cell_type": "code",
      "metadata": {
        "colab": {
          "base_uri": "https://localhost:8080/",
          "height": 164
        },
        "id": "uDg32r7cZKiX",
        "outputId": "2fa7b591-b5c1-42fc-8ad4-47888103409d"
      },
      "source": [
        "sample_tuple[3] = 7"
      ],
      "execution_count": null,
      "outputs": [
        {
          "output_type": "error",
          "ename": "TypeError",
          "evalue": "ignored",
          "traceback": [
            "\u001b[0;31m---------------------------------------------------------------------------\u001b[0m",
            "\u001b[0;31mTypeError\u001b[0m                                 Traceback (most recent call last)",
            "\u001b[0;32m<ipython-input-105-594077644a38>\u001b[0m in \u001b[0;36m<module>\u001b[0;34m()\u001b[0m\n\u001b[0;32m----> 1\u001b[0;31m \u001b[0msample_tuple\u001b[0m\u001b[0;34m[\u001b[0m\u001b[0;36m3\u001b[0m\u001b[0;34m]\u001b[0m \u001b[0;34m=\u001b[0m \u001b[0;36m7\u001b[0m\u001b[0;34m\u001b[0m\u001b[0;34m\u001b[0m\u001b[0m\n\u001b[0m",
            "\u001b[0;31mTypeError\u001b[0m: 'tuple' object does not support item assignment"
          ]
        }
      ]
    },
    {
      "cell_type": "code",
      "metadata": {
        "colab": {
          "base_uri": "https://localhost:8080/"
        },
        "id": "exf4BuUaZKlE",
        "outputId": "a85ec231-52f1-4f8e-c659-00ea905e54e2"
      },
      "source": [
        "sample_tuple[3]"
      ],
      "execution_count": null,
      "outputs": [
        {
          "output_type": "execute_result",
          "data": {
            "text/plain": [
              "54"
            ]
          },
          "metadata": {
            "tags": []
          },
          "execution_count": 106
        }
      ]
    },
    {
      "cell_type": "code",
      "metadata": {
        "id": "x1jeLBXqaG_q"
      },
      "source": [
        "del sample_tuple"
      ],
      "execution_count": null,
      "outputs": []
    },
    {
      "cell_type": "code",
      "metadata": {
        "colab": {
          "base_uri": "https://localhost:8080/",
          "height": 164
        },
        "id": "hmb50CcKaKyT",
        "outputId": "ad7f6b76-7eee-4711-fe5a-ea842ed3b78a"
      },
      "source": [
        "sample_tuple"
      ],
      "execution_count": null,
      "outputs": [
        {
          "output_type": "error",
          "ename": "NameError",
          "evalue": "ignored",
          "traceback": [
            "\u001b[0;31m---------------------------------------------------------------------------\u001b[0m",
            "\u001b[0;31mNameError\u001b[0m                                 Traceback (most recent call last)",
            "\u001b[0;32m<ipython-input-108-d6b6a49e561d>\u001b[0m in \u001b[0;36m<module>\u001b[0;34m()\u001b[0m\n\u001b[0;32m----> 1\u001b[0;31m \u001b[0msample_tuple\u001b[0m\u001b[0;34m\u001b[0m\u001b[0;34m\u001b[0m\u001b[0m\n\u001b[0m",
            "\u001b[0;31mNameError\u001b[0m: name 'sample_tuple' is not defined"
          ]
        }
      ]
    },
    {
      "cell_type": "code",
      "metadata": {
        "id": "XaXFhB-EZKnx"
      },
      "source": [
        "## Difference - list '[]' tuple will have ()\n",
        "## Lists are mutable through index and tuples are immutable"
      ],
      "execution_count": null,
      "outputs": []
    },
    {
      "cell_type": "code",
      "metadata": {
        "colab": {
          "base_uri": "https://localhost:8080/",
          "height": 35
        },
        "id": "5AweIr5sZ6sy",
        "outputId": "342773f8-4bbd-4283-e463-02a923292d8f"
      },
      "source": [
        "#SET\n",
        "\"\"\"\n",
        "1. Heterogenous \n",
        "2. Does not allow duplicates\n",
        "3. Cannot access using index \n",
        "4. Immutable\n",
        "5. Sometimes order of values change\n",
        "6. {} Braces\n",
        "\"\"\""
      ],
      "execution_count": 25,
      "outputs": [
        {
          "output_type": "execute_result",
          "data": {
            "application/vnd.google.colaboratory.intrinsic+json": {
              "type": "string"
            },
            "text/plain": [
              "'\\n1. Heterogenous \\n2. Does not allow duplicates\\n3. Cannot access using index \\n4. Immutable\\n5. Sometimes order of values change\\n6. {} Braces\\n'"
            ]
          },
          "metadata": {
            "tags": []
          },
          "execution_count": 25
        }
      ]
    },
    {
      "cell_type": "code",
      "metadata": {
        "id": "uaDmcVmXZKqh"
      },
      "source": [
        "sample_set = {1,3,2,4,4,4,4,4,5,5,6,7,8,98,'a','inceptez'}"
      ],
      "execution_count": 26,
      "outputs": []
    },
    {
      "cell_type": "code",
      "metadata": {
        "colab": {
          "base_uri": "https://localhost:8080/"
        },
        "id": "ud-wKduzZKtP",
        "outputId": "361901c9-f7dd-42b8-8d6f-d68b212fd31a"
      },
      "source": [
        "sample_set"
      ],
      "execution_count": 27,
      "outputs": [
        {
          "output_type": "execute_result",
          "data": {
            "text/plain": [
              "{1, 2, 3, 4, 5, 6, 7, 8, 98, 'a', 'inceptez'}"
            ]
          },
          "metadata": {
            "tags": []
          },
          "execution_count": 27
        }
      ]
    },
    {
      "cell_type": "code",
      "metadata": {
        "colab": {
          "base_uri": "https://localhost:8080/",
          "height": 162
        },
        "id": "5HfaoFoDZKwK",
        "outputId": "90bc92b0-7966-4267-8855-6fe7b3f334ad"
      },
      "source": [
        "sample_set[2]"
      ],
      "execution_count": 28,
      "outputs": [
        {
          "output_type": "error",
          "ename": "TypeError",
          "evalue": "ignored",
          "traceback": [
            "\u001b[0;31m---------------------------------------------------------------------------\u001b[0m",
            "\u001b[0;31mTypeError\u001b[0m                                 Traceback (most recent call last)",
            "\u001b[0;32m<ipython-input-28-e9af49f3aca4>\u001b[0m in \u001b[0;36m<module>\u001b[0;34m()\u001b[0m\n\u001b[0;32m----> 1\u001b[0;31m \u001b[0msample_set\u001b[0m\u001b[0;34m[\u001b[0m\u001b[0;36m2\u001b[0m\u001b[0;34m]\u001b[0m\u001b[0;34m\u001b[0m\u001b[0;34m\u001b[0m\u001b[0m\n\u001b[0m",
            "\u001b[0;31mTypeError\u001b[0m: 'set' object is not subscriptable"
          ]
        }
      ]
    },
    {
      "cell_type": "code",
      "metadata": {
        "colab": {
          "base_uri": "https://localhost:8080/"
        },
        "id": "OIu-Z2P9Avtt",
        "outputId": "3fe31558-4ca2-4da4-a715-244f39715e4e"
      },
      "source": [
        "type(sample_set)"
      ],
      "execution_count": 29,
      "outputs": [
        {
          "output_type": "execute_result",
          "data": {
            "text/plain": [
              "set"
            ]
          },
          "metadata": {
            "tags": []
          },
          "execution_count": 29
        }
      ]
    },
    {
      "cell_type": "code",
      "metadata": {
        "colab": {
          "base_uri": "https://localhost:8080/"
        },
        "id": "6extFocCav-Z",
        "outputId": "4d8fb882-8c2a-460b-de76-48aa3b084729"
      },
      "source": [
        "# You can can convert set to list to remove duplicates & use \n",
        "setlist=list(sample_set)\n",
        "print(type(setlist)); print(setlist) ; print(setlist[2])"
      ],
      "execution_count": 34,
      "outputs": [
        {
          "output_type": "stream",
          "text": [
            "<class 'list'>\n",
            "[1, 2, 3, 4, 5, 6, 7, 8, 98, 'a', 'inceptez']\n",
            "3\n"
          ],
          "name": "stdout"
        }
      ]
    },
    {
      "cell_type": "code",
      "metadata": {
        "id": "EGDfEV9QawBO"
      },
      "source": [
        ""
      ],
      "execution_count": null,
      "outputs": []
    },
    {
      "cell_type": "code",
      "metadata": {
        "id": "B6MdRFdzawET"
      },
      "source": [
        ""
      ],
      "execution_count": null,
      "outputs": []
    },
    {
      "cell_type": "code",
      "metadata": {
        "id": "qXEmP0PPawHv"
      },
      "source": [
        ""
      ],
      "execution_count": null,
      "outputs": []
    }
  ]
}