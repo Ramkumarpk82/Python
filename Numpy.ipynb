{
  "nbformat": 4,
  "nbformat_minor": 0,
  "metadata": {
    "colab": {
      "name": "Numpy.ipynb",
      "provenance": [],
      "collapsed_sections": []
    },
    "kernelspec": {
      "name": "python3",
      "display_name": "Python 3"
    },
    "language_info": {
      "name": "python"
    }
  },
  "cells": [
    {
      "cell_type": "code",
      "metadata": {
        "id": "3zcOjceU1cFv"
      },
      "source": [
        "#Numpy \n",
        "1. What? Library \n",
        "2. Where? Data Analytics \n",
        "3. What is its feature? Data Structure - n - Dimensional array.\n",
        " And perform Matrix and Mathematical Ops easily "
      ],
      "execution_count": null,
      "outputs": []
    },
    {
      "cell_type": "code",
      "metadata": {
        "id": "bWoFQYMs5W-W"
      },
      "source": [
        ""
      ],
      "execution_count": null,
      "outputs": []
    },
    {
      "cell_type": "code",
      "metadata": {
        "colab": {
          "base_uri": "https://localhost:8080/"
        },
        "id": "i4EYxCrY3AkZ",
        "outputId": "ece16987-83c3-4ab9-812e-b1a9f7275de5"
      },
      "source": [
        "#3 Reasons Why numpy?\n",
        "#1. Memory Usage! \n",
        "import numpy as np #call Numpy I will use np instaead of Numpy as such\n",
        "import sys\n",
        "\n",
        "#creating a numpy array \n",
        "array_numpy = np.arange(100)\n",
        "print(\"Size of Numpy array\",array_numpy.size * array_numpy.itemsize)"
      ],
      "execution_count": 2,
      "outputs": [
        {
          "output_type": "stream",
          "text": [
            "Size of Numpy array 800\n"
          ],
          "name": "stdout"
        }
      ]
    },
    {
      "cell_type": "code",
      "metadata": {
        "colab": {
          "base_uri": "https://localhost:8080/"
        },
        "id": "fUidXYbO5s7O",
        "outputId": "29b0be95-43f5-40c0-c2ff-5d1a977a49a5"
      },
      "source": [
        "list_range = range(0,100)\n",
        "print(\"Size of the list:\",sys.getsizeof(1)*len(list_range))"
      ],
      "execution_count": 2,
      "outputs": [
        {
          "output_type": "stream",
          "text": [
            "Size of the list: 2800\n"
          ],
          "name": "stdout"
        }
      ]
    },
    {
      "cell_type": "code",
      "metadata": {
        "colab": {
          "base_uri": "https://localhost:8080/"
        },
        "id": "vqmM_jfI6ANz",
        "outputId": "0e99d41a-6dc2-4c00-c759-fbaea1cf470d"
      },
      "source": [
        "#Convienient\n",
        "a1 = np.array([1,2,3])\n",
        "a2 = np.array([4,5,6])\n",
        "print(a1+a2)"
      ],
      "execution_count": 3,
      "outputs": [
        {
          "output_type": "stream",
          "text": [
            "[5 7 9]\n"
          ],
          "name": "stdout"
        }
      ]
    },
    {
      "cell_type": "code",
      "metadata": {
        "id": "cxVRVkgS6fQ-"
      },
      "source": [
        "#1. Memory Efficient \n",
        "#2. Convienient\n",
        "#3. Faster"
      ],
      "execution_count": 4,
      "outputs": []
    },
    {
      "cell_type": "code",
      "metadata": {
        "id": "ItYICht96rW-"
      },
      "source": [
        "'''\n",
        "Install \n",
        "pip - Package installer for python\n",
        "!pip install numpy \n",
        "!conda install numpy --y\n",
        "!pip3 install numpy\n",
        "\n",
        "'''"
      ],
      "execution_count": 4,
      "outputs": []
    },
    {
      "cell_type": "code",
      "metadata": {
        "id": "UCaS7lsU6u0S"
      },
      "source": [
        "import numpy as n\n",
        "arr = n.array([1,2,3,5])"
      ],
      "execution_count": 7,
      "outputs": []
    },
    {
      "cell_type": "code",
      "metadata": {
        "id": "ePPropfE9YkG"
      },
      "source": [
        "import numpy as np\n",
        "arr = np.array([1,2,3,4,56])"
      ],
      "execution_count": 9,
      "outputs": []
    },
    {
      "cell_type": "code",
      "metadata": {
        "colab": {
          "base_uri": "https://localhost:8080/"
        },
        "id": "_Ril3oIK9Ymq",
        "outputId": "8c2aa021-3ffb-43d2-b84f-b0fe307f6bea"
      },
      "source": [
        "print(type(arr))\n",
        "#ndarray = 'n' Dimensional Array"
      ],
      "execution_count": 10,
      "outputs": [
        {
          "output_type": "stream",
          "text": [
            "<class 'numpy.ndarray'>\n"
          ],
          "name": "stdout"
        }
      ]
    },
    {
      "cell_type": "code",
      "metadata": {
        "colab": {
          "base_uri": "https://localhost:8080/"
        },
        "id": "9LSlxZtm9Yo_",
        "outputId": "6e360ab9-3924-4ac0-ebb4-7d01b35eea66"
      },
      "source": [
        "type(arr[0])"
      ],
      "execution_count": 11,
      "outputs": [
        {
          "output_type": "execute_result",
          "data": {
            "text/plain": [
              "numpy.int64"
            ]
          },
          "metadata": {
            "tags": []
          },
          "execution_count": 11
        }
      ]
    },
    {
      "cell_type": "code",
      "metadata": {
        "id": "-JjFOaXP-OHd"
      },
      "source": [
        "#Homogenous - all of it will be same datatypes"
      ],
      "execution_count": 12,
      "outputs": []
    },
    {
      "cell_type": "code",
      "metadata": {
        "colab": {
          "base_uri": "https://localhost:8080/"
        },
        "id": "s2PT59ha9Yrl",
        "outputId": "f84cf934-95ab-4954-ec4c-291f661762ec"
      },
      "source": [
        "arr = np.array([1,2,3,4,'Inceptez'])\n",
        "print(type(arr[0]))"
      ],
      "execution_count": 16,
      "outputs": [
        {
          "output_type": "stream",
          "text": [
            "<class 'numpy.str_'>\n"
          ],
          "name": "stdout"
        }
      ]
    },
    {
      "cell_type": "code",
      "metadata": {
        "colab": {
          "base_uri": "https://localhost:8080/"
        },
        "id": "01NO7DSm9Yuf",
        "outputId": "7919a139-92e0-400a-b525-708fc9aba99c"
      },
      "source": [
        "print(np.__version__)"
      ],
      "execution_count": 15,
      "outputs": [
        {
          "output_type": "stream",
          "text": [
            "1.19.5\n"
          ],
          "name": "stdout"
        }
      ]
    },
    {
      "cell_type": "code",
      "metadata": {
        "id": "qMbSdGAo6u27"
      },
      "source": [
        "arr_2d = np.array([[1,2,3,4,5],[2,3,0,4,7]]) \n",
        "\n",
        "#warning VisibleDeprecationWarning: Creating an ndarray from ragged nested sequences (which is a list-or-tuple of lists-or-tuples-or ndarrays with different lengths or shapes) is deprecated. If you meant to do this, you must specify 'dtype=object' when creating the ndarray\n",
        " # \"\"\"Entry point for launching an IPython kernel."
      ],
      "execution_count": 40,
      "outputs": []
    },
    {
      "cell_type": "code",
      "metadata": {
        "colab": {
          "base_uri": "https://localhost:8080/"
        },
        "id": "_jMuYTP6-oeC",
        "outputId": "e1524326-d4b9-4cae-8f62-5148b50449c8"
      },
      "source": [
        "arr_2d.shape"
      ],
      "execution_count": 41,
      "outputs": [
        {
          "output_type": "execute_result",
          "data": {
            "text/plain": [
              "(2, 5)"
            ]
          },
          "metadata": {
            "tags": []
          },
          "execution_count": 41
        }
      ]
    },
    {
      "cell_type": "code",
      "metadata": {
        "colab": {
          "base_uri": "https://localhost:8080/"
        },
        "id": "722HP6pV-og0",
        "outputId": "856d141c-8e14-40bf-d0d3-006f56daf873"
      },
      "source": [
        "arr_2d"
      ],
      "execution_count": 42,
      "outputs": [
        {
          "output_type": "execute_result",
          "data": {
            "text/plain": [
              "array([[1, 2, 3, 4, 5],\n",
              "       [2, 3, 0, 4, 7]])"
            ]
          },
          "metadata": {
            "tags": []
          },
          "execution_count": 42
        }
      ]
    },
    {
      "cell_type": "code",
      "metadata": {
        "id": "vhYbEyuA-okD"
      },
      "source": [
        "#Functions involved in Creating an Array!"
      ],
      "execution_count": null,
      "outputs": []
    },
    {
      "cell_type": "code",
      "metadata": {
        "id": "1Tg4Fzng-oma"
      },
      "source": [
        "a = np.array([1,2,3,4,5,6,7,8,9,10,11,12,13,14,15,16])"
      ],
      "execution_count": 52,
      "outputs": []
    },
    {
      "cell_type": "code",
      "metadata": {
        "colab": {
          "base_uri": "https://localhost:8080/"
        },
        "id": "JjD0expi-opr",
        "outputId": "8ef0a7e8-97b0-4cb2-8a6c-aaa72dc3039c"
      },
      "source": [
        "a.reshape((4,4))\n",
        "#ValueError: cannot reshape array of size 15 into shape (4,4) "
      ],
      "execution_count": 53,
      "outputs": [
        {
          "output_type": "execute_result",
          "data": {
            "text/plain": [
              "array([[ 1,  2,  3,  4],\n",
              "       [ 5,  6,  7,  8],\n",
              "       [ 9, 10, 11, 12],\n",
              "       [13, 14, 15, 16]])"
            ]
          },
          "metadata": {
            "tags": []
          },
          "execution_count": 53
        }
      ]
    },
    {
      "cell_type": "code",
      "metadata": {
        "colab": {
          "base_uri": "https://localhost:8080/"
        },
        "id": "uYPZ9-mA6u6U",
        "outputId": "0e129335-dba6-4366-be53-0443238f15bc"
      },
      "source": [
        "#Linspace: This function create elements which are equally \n",
        "#spaced from each other\n",
        "#(start, stop, Count of elements it has to generate from Starting and END inc.)\n",
        "np.linspace(0,100,10,endpoint=False)"
      ],
      "execution_count": 76,
      "outputs": [
        {
          "output_type": "execute_result",
          "data": {
            "text/plain": [
              "array([ 0., 10., 20., 30., 40., 50., 60., 70., 80., 90.])"
            ]
          },
          "metadata": {
            "tags": []
          },
          "execution_count": 76
        }
      ]
    },
    {
      "cell_type": "code",
      "metadata": {
        "id": "hfsZblrEDwty"
      },
      "source": [
        "#Arange\n",
        "#Generates values based on the step you specify! \n",
        "np.arange(0,100,10)"
      ],
      "execution_count": 75,
      "outputs": []
    },
    {
      "cell_type": "code",
      "metadata": {
        "colab": {
          "base_uri": "https://localhost:8080/"
        },
        "id": "om-Ihf6cDwwX",
        "outputId": "257d07ba-78a8-4a33-dfe8-7e702fe7362d"
      },
      "source": [
        "#square matrix The number of rows = Number of Columns (Square matrix) multiplical 1*3\n",
        "np.eye((3))"
      ],
      "execution_count": 61,
      "outputs": [
        {
          "output_type": "execute_result",
          "data": {
            "text/plain": [
              "array([[1., 0., 0.],\n",
              "       [0., 1., 0.],\n",
              "       [0., 0., 1.]])"
            ]
          },
          "metadata": {
            "tags": []
          },
          "execution_count": 61
        }
      ]
    },
    {
      "cell_type": "code",
      "metadata": {
        "colab": {
          "base_uri": "https://localhost:8080/"
        },
        "id": "tB0Z2cG0Dwyt",
        "outputId": "914c11a6-59dc-4145-a1ba-11c805139bd7"
      },
      "source": [
        "#zero - Fills the shape specified in the parameter with zeros \n",
        "np.zeros((3,3))"
      ],
      "execution_count": 62,
      "outputs": [
        {
          "output_type": "execute_result",
          "data": {
            "text/plain": [
              "array([[0., 0., 0.],\n",
              "       [0., 0., 0.],\n",
              "       [0., 0., 0.]])"
            ]
          },
          "metadata": {
            "tags": []
          },
          "execution_count": 62
        }
      ]
    },
    {
      "cell_type": "code",
      "metadata": {
        "colab": {
          "base_uri": "https://localhost:8080/"
        },
        "id": "oX1fyclVDw1O",
        "outputId": "e5438ee0-e991-4277-bb21-2a0438d457a1"
      },
      "source": [
        "np.zeros((4,2))"
      ],
      "execution_count": 63,
      "outputs": [
        {
          "output_type": "execute_result",
          "data": {
            "text/plain": [
              "array([[0., 0.],\n",
              "       [0., 0.],\n",
              "       [0., 0.],\n",
              "       [0., 0.]])"
            ]
          },
          "metadata": {
            "tags": []
          },
          "execution_count": 63
        }
      ]
    },
    {
      "cell_type": "code",
      "metadata": {
        "colab": {
          "base_uri": "https://localhost:8080/"
        },
        "id": "_ip1qD7eDw37",
        "outputId": "c6f6c226-cdf3-4b05-b9c1-1053d3fd2da0"
      },
      "source": [
        "#zero - Fills the shape specified in the parameter with zeros \n",
        "np.ones((3,3))"
      ],
      "execution_count": 64,
      "outputs": [
        {
          "output_type": "execute_result",
          "data": {
            "text/plain": [
              "array([[1., 1., 1.],\n",
              "       [1., 1., 1.],\n",
              "       [1., 1., 1.]])"
            ]
          },
          "metadata": {
            "tags": []
          },
          "execution_count": 64
        }
      ]
    },
    {
      "cell_type": "code",
      "metadata": {
        "id": "KfMc10MtDw-R"
      },
      "source": [
        "a = np.diag([1,2,3,4,5])"
      ],
      "execution_count": 76,
      "outputs": []
    },
    {
      "cell_type": "code",
      "metadata": {
        "colab": {
          "base_uri": "https://localhost:8080/"
        },
        "id": "cNEZhog7DxBL",
        "outputId": "2c896368-874b-42b9-d340-acac08421060"
      },
      "source": [
        "#square matrix The number of rows = Number of Columns (Square matrix) multiplical 1*3\n",
        "np.eye((3))[::-1]"
      ],
      "execution_count": 66,
      "outputs": [
        {
          "output_type": "execute_result",
          "data": {
            "text/plain": [
              "array([[0., 0., 1.],\n",
              "       [0., 1., 0.],\n",
              "       [1., 0., 0.]])"
            ]
          },
          "metadata": {
            "tags": []
          },
          "execution_count": 66
        }
      ]
    },
    {
      "cell_type": "code",
      "metadata": {
        "id": "L2uKCcEbDxDg"
      },
      "source": [
        "#zero - Fills the shape specified in the parameter with zeros \n",
        "np.zeros?"
      ],
      "execution_count": 73,
      "outputs": []
    },
    {
      "cell_type": "code",
      "metadata": {
        "id": "FYQWNM3UDxGN"
      },
      "source": [
        "np.eye?"
      ],
      "execution_count": 74,
      "outputs": []
    },
    {
      "cell_type": "code",
      "metadata": {
        "colab": {
          "base_uri": "https://localhost:8080/"
        },
        "id": "7QWnHHVyDxI2",
        "outputId": "9d0c06fd-a714-4611-f5ea-9ebfb8e06696"
      },
      "source": [
        "#operations with Numpy array \n",
        "arr = np.array([20,30,40])\n",
        "dup = arr.copy()\n",
        "arr[0] = 60\n",
        "print(arr)\n",
        "print(dup)"
      ],
      "execution_count": 79,
      "outputs": [
        {
          "output_type": "stream",
          "text": [
            "[60 30 40]\n",
            "[20 30 40]\n"
          ],
          "name": "stdout"
        }
      ]
    },
    {
      "cell_type": "code",
      "metadata": {
        "colab": {
          "base_uri": "https://localhost:8080/"
        },
        "id": "fu1NA6o7DxL-",
        "outputId": "b7947a37-2749-4680-8999-7a3a00980182"
      },
      "source": [
        "#operations with Numpy array \n",
        "arr = np.array([20,30,40])\n",
        "dup = arr.view()\n",
        "arr[0] = 60\n",
        "print(arr)\n",
        "print(dup)"
      ],
      "execution_count": 80,
      "outputs": [
        {
          "output_type": "stream",
          "text": [
            "[60 30 40]\n",
            "[60 30 40]\n"
          ],
          "name": "stdout"
        }
      ]
    },
    {
      "cell_type": "code",
      "metadata": {
        "id": "zuvQ9e0ODxOG"
      },
      "source": [
        "#Iterations Throught the array\n",
        "#For loops - 'n' of these arrays"
      ],
      "execution_count": 81,
      "outputs": []
    },
    {
      "cell_type": "code",
      "metadata": {
        "colab": {
          "base_uri": "https://localhost:8080/"
        },
        "id": "DzWyVoPYMdaD",
        "outputId": "4cc4d889-34e2-41bd-d727-688a59f13aca"
      },
      "source": [
        "for i in arr: \n",
        "  print(i)"
      ],
      "execution_count": 82,
      "outputs": [
        {
          "output_type": "stream",
          "text": [
            "60\n",
            "30\n",
            "40\n"
          ],
          "name": "stdout"
        }
      ]
    },
    {
      "cell_type": "code",
      "metadata": {
        "colab": {
          "base_uri": "https://localhost:8080/"
        },
        "id": "MbFG5A3jDxQ7",
        "outputId": "fcbab5eb-c781-48c0-fb98-954d65f60a7c"
      },
      "source": [
        "for i in arr_2d:\n",
        "  for x in i:\n",
        "    print(x)"
      ],
      "execution_count": 85,
      "outputs": [
        {
          "output_type": "stream",
          "text": [
            "1\n",
            "2\n",
            "3\n",
            "4\n",
            "5\n",
            "2\n",
            "3\n",
            "0\n",
            "4\n",
            "7\n"
          ],
          "name": "stdout"
        }
      ]
    },
    {
      "cell_type": "code",
      "metadata": {
        "id": "GomHczpCR7c_"
      },
      "source": [
        "arr_2d = np.array([[1,2,3,4,5],[2,3,0,4,7]]) "
      ],
      "execution_count": null,
      "outputs": []
    },
    {
      "cell_type": "code",
      "metadata": {
        "id": "oleV_WkGDxUS"
      },
      "source": [
        "arr_3d = np.array([\n",
        "                   [[1,6,8],[6,7,8],[10,21,24],[23,25,26]],\n",
        "                   [[2,6,8],[2,7,8],[2,21,24],[2,25,26]],\n",
        "                   [[2,6,8],[2,7,8],[2,21,24],[2,25,26]]\n",
        "                  ])"
      ],
      "execution_count": 25,
      "outputs": []
    },
    {
      "cell_type": "code",
      "metadata": {
        "colab": {
          "base_uri": "https://localhost:8080/"
        },
        "id": "coDYiMB6NCXF",
        "outputId": "5d7a817b-d55c-47ed-f5a8-269dde54ae60"
      },
      "source": [
        "arr_3d.shape"
      ],
      "execution_count": 26,
      "outputs": [
        {
          "output_type": "execute_result",
          "data": {
            "text/plain": [
              "(3, 4, 3)"
            ]
          },
          "metadata": {
            "tags": []
          },
          "execution_count": 26
        }
      ]
    },
    {
      "cell_type": "code",
      "metadata": {
        "colab": {
          "base_uri": "https://localhost:8080/"
        },
        "id": "GiAkJ_nkNCaM",
        "outputId": "8b4bfc5d-4039-4632-d5bf-b238b58349d4"
      },
      "source": [
        "for room in arr_3d:\n",
        "  print(\"Inside the Room\",room)\n",
        "  for each_row in room:\n",
        "    print(\"Inside room1: {} row\".format(each_row))\n",
        "    for data_scientist in each_row:\n",
        "      print(data_scientist)"
      ],
      "execution_count": 8,
      "outputs": [
        {
          "output_type": "stream",
          "text": [
            "Inside the Room [[ 1  6  8]\n",
            " [ 6  7  8]\n",
            " [10 21 24]\n",
            " [23 25 26]]\n",
            "Inside room1: [1 6 8] row\n",
            "1\n",
            "6\n",
            "8\n",
            "Inside room1: [6 7 8] row\n",
            "6\n",
            "7\n",
            "8\n",
            "Inside room1: [10 21 24] row\n",
            "10\n",
            "21\n",
            "24\n",
            "Inside room1: [23 25 26] row\n",
            "23\n",
            "25\n",
            "26\n"
          ],
          "name": "stdout"
        }
      ]
    },
    {
      "cell_type": "code",
      "metadata": {
        "id": "cVYMNtQ8PaNE"
      },
      "source": [
        "## Addition, Subtraction and Multiplication in numpy array\n",
        "arr1 = np.array(range(1,17,1))\n",
        "arr1 = arr1.reshape(4,4)"
      ],
      "execution_count": 27,
      "outputs": []
    },
    {
      "cell_type": "code",
      "metadata": {
        "colab": {
          "base_uri": "https://localhost:8080/"
        },
        "id": "ec9jAV2aPaO3",
        "outputId": "254598b3-24d9-47ad-b4b8-19240d7fc180"
      },
      "source": [
        "arr1"
      ],
      "execution_count": 28,
      "outputs": [
        {
          "output_type": "execute_result",
          "data": {
            "text/plain": [
              "array([[ 1,  2,  3,  4],\n",
              "       [ 5,  6,  7,  8],\n",
              "       [ 9, 10, 11, 12],\n",
              "       [13, 14, 15, 16]])"
            ]
          },
          "metadata": {
            "tags": []
          },
          "execution_count": 28
        }
      ]
    },
    {
      "cell_type": "code",
      "metadata": {
        "id": "GnfDrllIPaRq"
      },
      "source": [
        "## Addition, Subtraction and Multiplication in numpy array\n",
        "arr2 = np.array(range(10,170,10))\n",
        "arr2 = arr2.reshape(4,4)"
      ],
      "execution_count": 30,
      "outputs": []
    },
    {
      "cell_type": "code",
      "metadata": {
        "colab": {
          "base_uri": "https://localhost:8080/"
        },
        "id": "Bj-btS6bPaUu",
        "outputId": "a56d396b-3f6c-4552-cf08-dcb891c603cf"
      },
      "source": [
        "arr2"
      ],
      "execution_count": 31,
      "outputs": [
        {
          "output_type": "execute_result",
          "data": {
            "text/plain": [
              "array([[ 10,  20,  30,  40],\n",
              "       [ 50,  60,  70,  80],\n",
              "       [ 90, 100, 110, 120],\n",
              "       [130, 140, 150, 160]])"
            ]
          },
          "metadata": {
            "tags": []
          },
          "execution_count": 31
        }
      ]
    },
    {
      "cell_type": "code",
      "metadata": {
        "colab": {
          "base_uri": "https://localhost:8080/"
        },
        "id": "tpxMCB47PaXS",
        "outputId": "e729229d-8037-45e5-8ca9-801fbc62f1c3"
      },
      "source": [
        "arr1+arr2"
      ],
      "execution_count": 32,
      "outputs": [
        {
          "output_type": "execute_result",
          "data": {
            "text/plain": [
              "array([[ 11,  22,  33,  44],\n",
              "       [ 55,  66,  77,  88],\n",
              "       [ 99, 110, 121, 132],\n",
              "       [143, 154, 165, 176]])"
            ]
          },
          "metadata": {
            "tags": []
          },
          "execution_count": 32
        }
      ]
    },
    {
      "cell_type": "code",
      "metadata": {
        "colab": {
          "base_uri": "https://localhost:8080/"
        },
        "id": "XvUTOzvkTXnC",
        "outputId": "ce5a483b-69ef-4f32-c54e-4ecdedef55f7"
      },
      "source": [
        "np.add(arr1,arr2)"
      ],
      "execution_count": 38,
      "outputs": [
        {
          "output_type": "execute_result",
          "data": {
            "text/plain": [
              "array([[ 11,  22,  33,  44],\n",
              "       [ 55,  66,  77,  88],\n",
              "       [ 99, 110, 121, 132],\n",
              "       [143, 154, 165, 176]])"
            ]
          },
          "metadata": {
            "tags": []
          },
          "execution_count": 38
        }
      ]
    },
    {
      "cell_type": "code",
      "metadata": {
        "colab": {
          "base_uri": "https://localhost:8080/",
          "height": 198
        },
        "id": "emJ9pXeuPaZp",
        "outputId": "7600af35-9cbf-4fbd-f383-f493443c1308"
      },
      "source": [
        "a = np.array([1,2,3,4])\n",
        "b = np.array([1,2])\n",
        "a+b"
      ],
      "execution_count": 35,
      "outputs": [
        {
          "output_type": "error",
          "ename": "ValueError",
          "evalue": "ignored",
          "traceback": [
            "\u001b[0;31m---------------------------------------------------------------------------\u001b[0m",
            "\u001b[0;31mValueError\u001b[0m                                Traceback (most recent call last)",
            "\u001b[0;32m<ipython-input-35-0bde321b4328>\u001b[0m in \u001b[0;36m<module>\u001b[0;34m()\u001b[0m\n\u001b[1;32m      1\u001b[0m \u001b[0ma\u001b[0m \u001b[0;34m=\u001b[0m \u001b[0mnp\u001b[0m\u001b[0;34m.\u001b[0m\u001b[0marray\u001b[0m\u001b[0;34m(\u001b[0m\u001b[0;34m[\u001b[0m\u001b[0;36m1\u001b[0m\u001b[0;34m,\u001b[0m\u001b[0;36m2\u001b[0m\u001b[0;34m,\u001b[0m\u001b[0;36m3\u001b[0m\u001b[0;34m,\u001b[0m\u001b[0;36m4\u001b[0m\u001b[0;34m]\u001b[0m\u001b[0;34m)\u001b[0m\u001b[0;34m\u001b[0m\u001b[0;34m\u001b[0m\u001b[0m\n\u001b[1;32m      2\u001b[0m \u001b[0mb\u001b[0m \u001b[0;34m=\u001b[0m \u001b[0mnp\u001b[0m\u001b[0;34m.\u001b[0m\u001b[0marray\u001b[0m\u001b[0;34m(\u001b[0m\u001b[0;34m[\u001b[0m\u001b[0;36m1\u001b[0m\u001b[0;34m,\u001b[0m\u001b[0;36m2\u001b[0m\u001b[0;34m]\u001b[0m\u001b[0;34m)\u001b[0m\u001b[0;34m\u001b[0m\u001b[0;34m\u001b[0m\u001b[0m\n\u001b[0;32m----> 3\u001b[0;31m \u001b[0ma\u001b[0m\u001b[0;34m+\u001b[0m\u001b[0mb\u001b[0m\u001b[0;34m\u001b[0m\u001b[0;34m\u001b[0m\u001b[0m\n\u001b[0m",
            "\u001b[0;31mValueError\u001b[0m: operands could not be broadcast together with shapes (4,) (2,) "
          ]
        }
      ]
    },
    {
      "cell_type": "code",
      "metadata": {
        "id": "oYUKnTqJPada"
      },
      "source": [
        "arr3 = arr2-arr1"
      ],
      "execution_count": 43,
      "outputs": []
    },
    {
      "cell_type": "code",
      "metadata": {
        "colab": {
          "base_uri": "https://localhost:8080/"
        },
        "id": "ByGlcXWaTJHH",
        "outputId": "009ec700-3b8d-46a2-b9db-764f17b2892d"
      },
      "source": [
        "#subtraction - Numbers taken in same order\n",
        "#differece - Biggest number - Smallest number\n",
        "np.subtract(arr1,arr2)"
      ],
      "execution_count": 39,
      "outputs": [
        {
          "output_type": "execute_result",
          "data": {
            "text/plain": [
              "array([[  -9,  -18,  -27,  -36],\n",
              "       [ -45,  -54,  -63,  -72],\n",
              "       [ -81,  -90,  -99, -108],\n",
              "       [-117, -126, -135, -144]])"
            ]
          },
          "metadata": {
            "tags": []
          },
          "execution_count": 39
        }
      ]
    },
    {
      "cell_type": "code",
      "metadata": {
        "colab": {
          "base_uri": "https://localhost:8080/"
        },
        "id": "NRchga6aTeOT",
        "outputId": "7f8e9b7f-7b6d-40ff-e2ce-525da1b947e5"
      },
      "source": [
        "arr1 = np.array(range(1,17,1))\n",
        "arr1 = arr1.reshape(4,4)\n",
        "arr2 = np.array(range(10,170,10))\n",
        "arr2 = arr2.reshape(4,4)\n",
        "arr1+arr2"
      ],
      "execution_count": 42,
      "outputs": [
        {
          "output_type": "execute_result",
          "data": {
            "text/plain": [
              "array([[ 11,  22,  33,  44],\n",
              "       [ 55,  66,  77,  88],\n",
              "       [ 99, 110, 121, 132],\n",
              "       [143, 154, 165, 176]])"
            ]
          },
          "metadata": {
            "tags": []
          },
          "execution_count": 42
        }
      ]
    },
    {
      "cell_type": "code",
      "metadata": {
        "colab": {
          "base_uri": "https://localhost:8080/"
        },
        "id": "ujyHnGS1VQMG",
        "outputId": "81cf456a-4937-4ac1-cca4-edea8a45a671"
      },
      "source": [
        "arr3"
      ],
      "execution_count": 44,
      "outputs": [
        {
          "output_type": "execute_result",
          "data": {
            "text/plain": [
              "array([[  9,  18,  27,  36],\n",
              "       [ 45,  54,  63,  72],\n",
              "       [ 81,  90,  99, 108],\n",
              "       [117, 126, 135, 144]])"
            ]
          },
          "metadata": {
            "tags": []
          },
          "execution_count": 44
        }
      ]
    },
    {
      "cell_type": "code",
      "metadata": {
        "colab": {
          "base_uri": "https://localhost:8080/"
        },
        "id": "xIJ-28ZnUgAi",
        "outputId": "eeb1ac58-5565-401d-e075-b5d090de9e98"
      },
      "source": [
        "np.add(arr1,arr2)"
      ],
      "execution_count": 45,
      "outputs": [
        {
          "output_type": "execute_result",
          "data": {
            "text/plain": [
              "(array([2, 3, 3, 3, 3]), array([3, 0, 1, 2, 3]))"
            ]
          },
          "metadata": {
            "tags": []
          },
          "execution_count": 45
        }
      ]
    },
    {
      "cell_type": "code",
      "metadata": {
        "id": "5LoMda0lWGF_"
      },
      "source": [
        "np.multiply?\n",
        "#Multiply arguments element-wise."
      ],
      "execution_count": 47,
      "outputs": []
    },
    {
      "cell_type": "code",
      "metadata": {
        "colab": {
          "base_uri": "https://localhost:8080/"
        },
        "id": "gQFHDERnVUdM",
        "outputId": "bc04906b-6c6f-4687-df86-17a323e71951"
      },
      "source": [
        "#Matrix multiplication \n",
        "arr1"
      ],
      "execution_count": 48,
      "outputs": [
        {
          "output_type": "execute_result",
          "data": {
            "text/plain": [
              "array([[ 1,  2,  3,  4],\n",
              "       [ 5,  6,  7,  8],\n",
              "       [ 9, 10, 11, 12],\n",
              "       [13, 14, 15, 16]])"
            ]
          },
          "metadata": {
            "tags": []
          },
          "execution_count": 48
        }
      ]
    },
    {
      "cell_type": "code",
      "metadata": {
        "colab": {
          "base_uri": "https://localhost:8080/"
        },
        "id": "Svrg7awGWgI6",
        "outputId": "2c27e583-10f1-4d8b-a3db-d6c2fd3cf757"
      },
      "source": [
        "arr2"
      ],
      "execution_count": 49,
      "outputs": [
        {
          "output_type": "execute_result",
          "data": {
            "text/plain": [
              "array([[ 10,  20,  30,  40],\n",
              "       [ 50,  60,  70,  80],\n",
              "       [ 90, 100, 110, 120],\n",
              "       [130, 140, 150, 160]])"
            ]
          },
          "metadata": {
            "tags": []
          },
          "execution_count": 49
        }
      ]
    },
    {
      "cell_type": "code",
      "metadata": {
        "colab": {
          "base_uri": "https://localhost:8080/"
        },
        "id": "VoUDqOieWfa2",
        "outputId": "057e42cd-86bf-4bfa-832f-9d41c7e983b0"
      },
      "source": [
        "arr1 = np.array([[2,3,6],[4,5,7]])\n",
        "arr2 = np.array([[2,5,6],[7,8,7],[9,10,8]])\n",
        "np.dot(arr1,arr2)"
      ],
      "execution_count": 52,
      "outputs": [
        {
          "output_type": "execute_result",
          "data": {
            "text/plain": [
              "array([[ 79,  94,  81],\n",
              "       [106, 130, 115]])"
            ]
          },
          "metadata": {
            "tags": []
          },
          "execution_count": 52
        }
      ]
    },
    {
      "cell_type": "code",
      "metadata": {
        "id": "UwChk-N2X2ty"
      },
      "source": [
        "## Join numpy arrays\n",
        "arr1  = np.array([2,3,6])\n",
        "arr2 = np.array([5,6,7])"
      ],
      "execution_count": 53,
      "outputs": []
    },
    {
      "cell_type": "code",
      "metadata": {
        "colab": {
          "base_uri": "https://localhost:8080/"
        },
        "id": "SdvaU390cGo-",
        "outputId": "6f67e57e-b939-47f0-c1b3-d585f91d72e9"
      },
      "source": [
        "np.stack((arr1,arr2),axis = 0)"
      ],
      "execution_count": 63,
      "outputs": [
        {
          "output_type": "execute_result",
          "data": {
            "text/plain": [
              "array([[2, 3, 6],\n",
              "       [5, 6, 7]])"
            ]
          },
          "metadata": {
            "tags": []
          },
          "execution_count": 63
        }
      ]
    },
    {
      "cell_type": "code",
      "metadata": {
        "colab": {
          "base_uri": "https://localhost:8080/"
        },
        "id": "7Sroian3cpv5",
        "outputId": "c5fa063c-5058-40d6-a522-68efc960516f"
      },
      "source": [
        "arr3"
      ],
      "execution_count": 64,
      "outputs": [
        {
          "output_type": "execute_result",
          "data": {
            "text/plain": [
              "array([[2, 5],\n",
              "       [3, 6],\n",
              "       [6, 7]])"
            ]
          },
          "metadata": {
            "tags": []
          },
          "execution_count": 64
        }
      ]
    },
    {
      "cell_type": "code",
      "metadata": {
        "id": "j486xAXbcqYy"
      },
      "source": [
        "res = []\n",
        "k = 1\n",
        "for sub in arr3:\n",
        "  res.append(sub[k])"
      ],
      "execution_count": 65,
      "outputs": []
    },
    {
      "cell_type": "code",
      "metadata": {
        "colab": {
          "base_uri": "https://localhost:8080/"
        },
        "id": "TtZHdVVCdh1F",
        "outputId": "c6ef9025-dc15-4532-e0c7-f6b5f9b25ea2"
      },
      "source": [
        "res"
      ],
      "execution_count": 66,
      "outputs": [
        {
          "output_type": "execute_result",
          "data": {
            "text/plain": [
              "[5, 6, 7]"
            ]
          },
          "metadata": {
            "tags": []
          },
          "execution_count": 66
        }
      ]
    },
    {
      "cell_type": "code",
      "metadata": {
        "id": "oKyJ2BCWcO_8"
      },
      "source": [
        "arr3 = np.stack((arr1,arr2),axis = 1)"
      ],
      "execution_count": 58,
      "outputs": []
    },
    {
      "cell_type": "code",
      "metadata": {
        "colab": {
          "base_uri": "https://localhost:8080/"
        },
        "id": "q9cJ2hCscdJ0",
        "outputId": "786be8fe-0618-48c3-b04d-e1048448fb24"
      },
      "source": [
        "#Transpose of any matrix\n",
        "arr arr3.T"
      ],
      "execution_count": 67,
      "outputs": [
        {
          "output_type": "execute_result",
          "data": {
            "text/plain": [
              "array([[2, 3, 6],\n",
              "       [5, 6, 7]])"
            ]
          },
          "metadata": {
            "tags": []
          },
          "execution_count": 67
        }
      ]
    },
    {
      "cell_type": "code",
      "metadata": {
        "id": "wU4irhD7ePLg"
      },
      "source": [
        "## Join numpy arrays\n",
        "arr1  = np.array([26,30,6])\n",
        "arr2 = np.array([25,6,7])\n",
        "arr3 = np.stack((arr1,arr2),axis = 0)"
      ],
      "execution_count": 68,
      "outputs": []
    },
    {
      "cell_type": "code",
      "metadata": {
        "colab": {
          "base_uri": "https://localhost:8080/"
        },
        "id": "bwOT7GEreXEH",
        "outputId": "a11007a5-1962-45d5-a9b6-f4bc458da6d1"
      },
      "source": [
        "arr3"
      ],
      "execution_count": 69,
      "outputs": [
        {
          "output_type": "execute_result",
          "data": {
            "text/plain": [
              "array([[26, 30,  6],\n",
              "       [25,  6,  7]])"
            ]
          },
          "metadata": {
            "tags": []
          },
          "execution_count": 69
        }
      ]
    },
    {
      "cell_type": "code",
      "metadata": {
        "colab": {
          "base_uri": "https://localhost:8080/"
        },
        "id": "PNpDeTT1cne6",
        "outputId": "2f5ed0cf-5f40-4b90-f503-f2e15a00fa14"
      },
      "source": [
        "np.sort(arr3)"
      ],
      "execution_count": 70,
      "outputs": [
        {
          "output_type": "execute_result",
          "data": {
            "text/plain": [
              "array([[ 6, 26, 30],\n",
              "       [ 6,  7, 25]])"
            ]
          },
          "metadata": {
            "tags": []
          },
          "execution_count": 70
        }
      ]
    },
    {
      "cell_type": "code",
      "metadata": {
        "id": "HGIC951nebiS"
      },
      "source": [
        "A.I = I.A = A (for any square)"
      ],
      "execution_count": null,
      "outputs": []
    },
    {
      "cell_type": "code",
      "metadata": {
        "colab": {
          "base_uri": "https://localhost:8080/"
        },
        "id": "SViPTMbMfaRd",
        "outputId": "ffaef0b0-70e9-4bf7-ae46-2f63c1e50e24"
      },
      "source": [
        "np.absolute(np.subtract(arr1,arr2))"
      ],
      "execution_count": 71,
      "outputs": [
        {
          "output_type": "execute_result",
          "data": {
            "text/plain": [
              "array([ 1, 24,  1])"
            ]
          },
          "metadata": {
            "tags": []
          },
          "execution_count": 71
        }
      ]
    },
    {
      "cell_type": "code",
      "metadata": {
        "id": "BG2dou_tfaS3"
      },
      "source": [
        ""
      ],
      "execution_count": null,
      "outputs": []
    }
  ]
}