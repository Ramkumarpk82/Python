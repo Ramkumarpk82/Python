{
  "nbformat": 4,
  "nbformat_minor": 0,
  "metadata": {
    "colab": {
      "name": "Loops.ipynb",
      "provenance": []
    },
    "kernelspec": {
      "name": "python3",
      "display_name": "Python 3"
    },
    "language_info": {
      "name": "python"
    }
  },
  "cells": [
    {
      "cell_type": "code",
      "metadata": {
        "id": "idlJYtme6RK7"
      },
      "source": [
        "#Two primitive loops \n",
        "1. While \n",
        "2. For"
      ],
      "execution_count": null,
      "outputs": []
    },
    {
      "cell_type": "code",
      "metadata": {
        "id": "DBspmgmpAqsg"
      },
      "source": [
        "if i<10:\n",
        "  \n"
      ],
      "execution_count": null,
      "outputs": []
    },
    {
      "cell_type": "code",
      "metadata": {
        "colab": {
          "base_uri": "https://localhost:8080/"
        },
        "id": "CVi34VoK88n3",
        "outputId": "290e4df6-dd97-49d9-8e09-c49a12b5fa3b"
      },
      "source": [
        "#While: Perform or execute a set of commands until the condition you specify is true \n",
        "#why loop? - runs in a coiled until the condition is true \n",
        "#: to depict the start of any block! \n",
        "i = 0\n",
        "while i <10:\n",
        "  print(\"Inside this tab space indendation\")\n",
        "  print(i)\n",
        "  i=i+1\n",
        "print(\"This is outside the Identation limit of while\")\n",
        "\n",
        "#IndentationError: expected an indented block"
      ],
      "execution_count": null,
      "outputs": [
        {
          "output_type": "stream",
          "text": [
            "Inside this tab space indendation\n",
            "0\n",
            "Inside this tab space indendation\n",
            "1\n",
            "Inside this tab space indendation\n",
            "2\n",
            "Inside this tab space indendation\n",
            "3\n",
            "Inside this tab space indendation\n",
            "4\n",
            "Inside this tab space indendation\n",
            "5\n",
            "Inside this tab space indendation\n",
            "6\n",
            "Inside this tab space indendation\n",
            "7\n",
            "Inside this tab space indendation\n",
            "8\n",
            "Inside this tab space indendation\n",
            "9\n",
            "This is outside the Identation limit of while\n"
          ],
          "name": "stdout"
        }
      ]
    },
    {
      "cell_type": "code",
      "metadata": {
        "colab": {
          "base_uri": "https://localhost:8080/"
        },
        "id": "WBn7kvnX9gCY",
        "outputId": "8d8e13e5-dcaa-4f2e-fd08-8a0aef0d4860"
      },
      "source": [
        "#break \n",
        "i  = 0\n",
        "while i <10:\n",
        "  print(i)\n",
        "  i = i+1\n",
        "else: \n",
        "  print(\"The condition no longer satisfies\")"
      ],
      "execution_count": null,
      "outputs": [
        {
          "output_type": "stream",
          "text": [
            "0\n",
            "1\n",
            "2\n",
            "3\n",
            "4\n",
            "5\n",
            "6\n",
            "7\n",
            "8\n",
            "9\n",
            "The condition no longer satisfies\n"
          ],
          "name": "stdout"
        }
      ]
    },
    {
      "cell_type": "code",
      "metadata": {
        "colab": {
          "base_uri": "https://localhost:8080/"
        },
        "id": "GvJ4PY5p_COf",
        "outputId": "bc2f0d88-6b95-42ce-f272-456285e5df19"
      },
      "source": [
        "A = [0,1,2,3,4,5,6,7,8,9]\n",
        "#return a list B that adds 1 to each element of the list A using while loop! \n",
        "B = []\n",
        "i = 0\n",
        "while i < len(A):\n",
        "  B.append(A[i]+1)\n",
        "  i=i+1\n",
        "print(B)\n"
      ],
      "execution_count": null,
      "outputs": [
        {
          "output_type": "stream",
          "text": [
            "[1, 2, 3, 4, 5, 6, 7, 8, 9, 10]\n"
          ],
          "name": "stdout"
        }
      ]
    },
    {
      "cell_type": "code",
      "metadata": {
        "id": "JLOCeAjtEC-h"
      },
      "source": [
        "1. Write a program to find the numbers that are divisible by 7 and is a multiple of 5, \n",
        "Between the range 1500 and 2700 (both included)\n",
        "\n",
        "O/p: 1505, 1540,1575.............................2660,2695"
      ],
      "execution_count": null,
      "outputs": []
    },
    {
      "cell_type": "code",
      "metadata": {
        "colab": {
          "base_uri": "https://localhost:8080/"
        },
        "id": "gNX2_7PhEUIG",
        "outputId": "2cda5798-b081-4db5-ecc6-2a122f680c3b"
      },
      "source": [
        "#% - Remaineder Modulo\n",
        "#// - Quotient without decimal place\n",
        "#/ - Quoitient with decimal point\n",
        "\n",
        "4%3"
      ],
      "execution_count": null,
      "outputs": [
        {
          "output_type": "execute_result",
          "data": {
            "text/plain": [
              "1"
            ]
          },
          "metadata": {
            "tags": []
          },
          "execution_count": 10
        }
      ]
    },
    {
      "cell_type": "code",
      "metadata": {
        "colab": {
          "base_uri": "https://localhost:8080/"
        },
        "id": "T99J6eOjE_5X",
        "outputId": "30ae1b87-fe7e-4a8f-ec61-27369259becd"
      },
      "source": [
        "20//3"
      ],
      "execution_count": null,
      "outputs": [
        {
          "output_type": "execute_result",
          "data": {
            "text/plain": [
              "6"
            ]
          },
          "metadata": {
            "tags": []
          },
          "execution_count": 13
        }
      ]
    },
    {
      "cell_type": "code",
      "metadata": {
        "colab": {
          "base_uri": "https://localhost:8080/"
        },
        "id": "TW0QqrSbFJS3",
        "outputId": "1349ee70-659c-4a12-aa92-f5ebb094b69f"
      },
      "source": [
        "20/3"
      ],
      "execution_count": null,
      "outputs": [
        {
          "output_type": "execute_result",
          "data": {
            "text/plain": [
              "6.666666666666667"
            ]
          },
          "metadata": {
            "tags": []
          },
          "execution_count": 14
        }
      ]
    },
    {
      "cell_type": "code",
      "metadata": {
        "colab": {
          "base_uri": "https://localhost:8080/"
        },
        "id": "viIw4piOFhg7",
        "outputId": "3585acd9-54bb-4298-a755-7e2d084bf108"
      },
      "source": [
        "20%3"
      ],
      "execution_count": null,
      "outputs": [
        {
          "output_type": "execute_result",
          "data": {
            "text/plain": [
              "2"
            ]
          },
          "metadata": {
            "tags": []
          },
          "execution_count": 15
        }
      ]
    },
    {
      "cell_type": "code",
      "metadata": {
        "id": "jbL_pHA3FkOT"
      },
      "source": [
        "i = 1500\n",
        "while i<=2700:\n",
        "  if(i%7==0) and (i%5==0):\n",
        "    print(i)\n",
        "  i = i+1"
      ],
      "execution_count": null,
      "outputs": []
    },
    {
      "cell_type": "code",
      "metadata": {
        "colab": {
          "base_uri": "https://localhost:8080/"
        },
        "id": "LBZ0JeU0HWq8",
        "outputId": "b6d20e20-253c-4f36-91ab-09d394dea0fd"
      },
      "source": [
        "#For Loop! Iterable \n",
        "#for - Keyword\n",
        "class_ = [14,15,16]\n",
        "for i in class_: \n",
        "  print(i)"
      ],
      "execution_count": null,
      "outputs": [
        {
          "output_type": "stream",
          "text": [
            "14\n",
            "15\n",
            "16\n"
          ],
          "name": "stdout"
        }
      ]
    },
    {
      "cell_type": "code",
      "metadata": {
        "colab": {
          "base_uri": "https://localhost:8080/"
        },
        "id": "zg3jS3y_IjlP",
        "outputId": "540a06a6-60b6-465d-a288-2545251c10a5"
      },
      "source": [
        "list(range(0,10,5))"
      ],
      "execution_count": null,
      "outputs": [
        {
          "output_type": "execute_result",
          "data": {
            "text/plain": [
              "[0, 5]"
            ]
          },
          "metadata": {
            "tags": []
          },
          "execution_count": 23
        }
      ]
    },
    {
      "cell_type": "code",
      "metadata": {
        "id": "-NE1mK9eIHxm"
      },
      "source": [
        "#running through index and then accessing the values\n",
        "class_ = [14,15,16]\n",
        "for i in range(0,len(class_)): \n",
        "  print(class_[i])"
      ],
      "execution_count": null,
      "outputs": []
    },
    {
      "cell_type": "code",
      "metadata": {
        "id": "hpVXBlkBIyPY"
      },
      "source": [
        "for i in \"Inceptez\":\n",
        "  print(i)"
      ],
      "execution_count": null,
      "outputs": []
    },
    {
      "cell_type": "code",
      "metadata": {
        "colab": {
          "base_uri": "https://localhost:8080/"
        },
        "id": "NaUufSfeJY50",
        "outputId": "1f1857b4-4856-4b4e-e1fb-21f7ef685f43"
      },
      "source": [
        "i = 1\n",
        "while i in range(0,10):\n",
        "  print(\"number is:\",i)\n",
        "  i = i+1"
      ],
      "execution_count": null,
      "outputs": [
        {
          "output_type": "stream",
          "text": [
            "number is: 1\n",
            "number is: 2\n",
            "number is: 3\n",
            "number is: 4\n",
            "number is: 5\n",
            "number is: 6\n",
            "number is: 7\n",
            "number is: 8\n",
            "number is: 9\n"
          ],
          "name": "stdout"
        }
      ]
    },
    {
      "cell_type": "code",
      "metadata": {
        "id": "JnmW9VRXI-xV"
      },
      "source": [
        "3. Write a program to construct the following pattern, using a 'for' loop:\n",
        "n=5\n",
        "\n",
        "\n",
        "\n",
        "\n",
        "\n",
        "*\n",
        "* *\n",
        "* * * \n",
        "* * * * \n",
        "* * * * *\n",
        "* * * *\n",
        "* * *\n",
        "* *\n",
        "*"
      ],
      "execution_count": null,
      "outputs": []
    },
    {
      "cell_type": "code",
      "metadata": {
        "colab": {
          "base_uri": "https://localhost:8080/"
        },
        "id": "icewSPcfNOiQ",
        "outputId": "4d55a393-41aa-46b1-f182-91e205cae10f"
      },
      "source": [
        "n = 5\n",
        "for i in range(n,0,-1):\n",
        "  #print(i)\n",
        "  for j in range(i):\n",
        "    print(\"* \",end =\"\")\n",
        "  print('')"
      ],
      "execution_count": null,
      "outputs": [
        {
          "output_type": "stream",
          "text": [
            "5\n",
            "* * * * * \n",
            "4\n",
            "* * * * \n",
            "3\n",
            "* * * \n",
            "2\n",
            "* * \n",
            "1\n",
            "* \n"
          ],
          "name": "stdout"
        }
      ]
    },
    {
      "cell_type": "code",
      "metadata": {
        "id": "uhg5_4lmOtsO"
      },
      "source": [
        ""
      ],
      "execution_count": null,
      "outputs": []
    },
    {
      "cell_type": "code",
      "metadata": {
        "colab": {
          "base_uri": "https://localhost:8080/"
        },
        "id": "hDndtkvNMTLv",
        "outputId": "248143eb-c3d9-4d59-e17c-bda95ee8407d"
      },
      "source": [
        "list(range(10,0,-1))"
      ],
      "execution_count": null,
      "outputs": [
        {
          "output_type": "execute_result",
          "data": {
            "text/plain": [
              "[10, 9, 8, 7, 6, 5, 4, 3, 2, 1]"
            ]
          },
          "metadata": {
            "tags": []
          },
          "execution_count": 31
        }
      ]
    },
    {
      "cell_type": "code",
      "metadata": {
        "id": "s5LGchLXOrYa"
      },
      "source": [
        "##Functions!\n",
        "#Reusable block of code! \n",
        "def function_name():\n",
        "  return \n",
        "\n",
        "#Function Defenition\n",
        "def sample_funct():\n",
        "  print(\"Hello Inceptez\")"
      ],
      "execution_count": null,
      "outputs": []
    },
    {
      "cell_type": "code",
      "metadata": {
        "colab": {
          "base_uri": "https://localhost:8080/"
        },
        "id": "6YK-YWC_RqVr",
        "outputId": "43cf97c0-8b8c-446b-9394-ff68f62d7f04"
      },
      "source": [
        "#The function call\n",
        "sample_funct()"
      ],
      "execution_count": null,
      "outputs": [
        {
          "output_type": "stream",
          "text": [
            "Hello Inceptez\n"
          ],
          "name": "stdout"
        }
      ]
    },
    {
      "cell_type": "code",
      "metadata": {
        "id": "LaMba015Rtw6"
      },
      "source": [
        "def sample_function():\n",
        "  '''this function prints the name of this function'''\n",
        "  print(\"sample_function\")"
      ],
      "execution_count": null,
      "outputs": []
    },
    {
      "cell_type": "code",
      "metadata": {
        "id": "R0jz-OF8R7ls"
      },
      "source": [
        "sample_function?"
      ],
      "execution_count": null,
      "outputs": []
    },
    {
      "cell_type": "code",
      "metadata": {
        "id": "USJamhNgR7or"
      },
      "source": [
        "def sum(a,b):\n",
        "  '''This is a function that sums up two numbers \n",
        "  a - number one (INT)\n",
        "  b - number two (INT)\n",
        "  \n",
        "  Example:\n",
        "  a = 2\n",
        "  b = 3\n",
        "  Sum = sum(a,b)\n",
        "  '''\n",
        "  return a+b #hey function please return this to the function call "
      ],
      "execution_count": null,
      "outputs": []
    },
    {
      "cell_type": "code",
      "metadata": {
        "id": "GVLrEKkjTeox"
      },
      "source": [
        "def sum_(a,b):\n",
        "  '''This is a function that sums up two numbers \n",
        "  a - number one (INT)\n",
        "  b - number two (INT)\n",
        "  \n",
        "  Example:\n",
        "  a = 2\n",
        "  b = 3\n",
        "  Sum = sum(a,b)\n",
        "\n",
        "  I am adding details\n",
        "  '''\n",
        "  print(a+b) #hey function please return this to the function call "
      ],
      "execution_count": null,
      "outputs": []
    },
    {
      "cell_type": "code",
      "metadata": {
        "colab": {
          "base_uri": "https://localhost:8080/"
        },
        "id": "qP5f-vPgTboW",
        "outputId": "1318e879-2c4a-49e2-b39d-ba74b52b9972"
      },
      "source": [
        "s_ = sum(1,2)\n",
        "s_a = sum_(1,2)"
      ],
      "execution_count": null,
      "outputs": [
        {
          "output_type": "stream",
          "text": [
            "3\n"
          ],
          "name": "stdout"
        }
      ]
    },
    {
      "cell_type": "code",
      "metadata": {
        "id": "zqdrHqJyTk4B"
      },
      "source": [
        "sum?"
      ],
      "execution_count": null,
      "outputs": []
    },
    {
      "cell_type": "code",
      "metadata": {
        "id": "POrInzYpR7r8"
      },
      "source": [
        "#Accessing the doicstring of the function\n",
        "1. Shift - tab\n",
        "2. sum.__doc__\n",
        "3. sum? "
      ],
      "execution_count": null,
      "outputs": []
    },
    {
      "cell_type": "code",
      "metadata": {
        "id": "yR8dlkLhYNZH"
      },
      "source": [
        "sum_?"
      ],
      "execution_count": null,
      "outputs": []
    },
    {
      "cell_type": "code",
      "metadata": {
        "colab": {
          "base_uri": "https://localhost:8080/"
        },
        "id": "jT-210MGR7uO",
        "outputId": "dd2140af-f81c-43c6-9212-0794e6b85432"
      },
      "source": [
        "print(sum.__doc__)"
      ],
      "execution_count": null,
      "outputs": [
        {
          "output_type": "stream",
          "text": [
            "This is a function that sums up two numbers \n",
            "  a - number one (INT)\n",
            "  b - number two (INT)\n",
            "  \n",
            "  Example:\n",
            "  a = 2\n",
            "  b = 3\n",
            "  Sum = sum(a,b)\n",
            "  \n"
          ],
          "name": "stdout"
        }
      ]
    },
    {
      "cell_type": "code",
      "metadata": {
        "id": "xnq1s9G8R7xf"
      },
      "source": [
        "#4. Write a function that takes in list as input and returns the sum of the list as o/p\n",
        "def sum_(a,b):\n",
        "  return a+b\n",
        "def fun_sum(A):\n",
        "  sum = 0\n",
        "  for i in A:\n",
        "    sum= sum_(sum,i)\n",
        "  return sum"
      ],
      "execution_count": null,
      "outputs": []
    },
    {
      "cell_type": "code",
      "metadata": {
        "id": "Qb_zRNdqdmSm"
      },
      "source": [
        "def sum_list(A):\n",
        "  res = 0\n",
        "  for i in A: \n",
        "    res = res+i\n",
        "  return res"
      ],
      "execution_count": null,
      "outputs": []
    },
    {
      "cell_type": "code",
      "metadata": {
        "colab": {
          "base_uri": "https://localhost:8080/"
        },
        "id": "_VLRjDZaXy_5",
        "outputId": "02cd8b34-2795-4361-bb36-97776dd7c906"
      },
      "source": [
        "sum_list([1,2,3,4,5])"
      ],
      "execution_count": null,
      "outputs": [
        {
          "output_type": "execute_result",
          "data": {
            "text/plain": [
              "15"
            ]
          },
          "metadata": {
            "tags": []
          },
          "execution_count": 88
        }
      ]
    },
    {
      "cell_type": "code",
      "metadata": {
        "colab": {
          "base_uri": "https://localhost:8080/",
          "height": 232
        },
        "id": "uqJxN72xWHnL",
        "outputId": "0abf33d4-289f-4727-f933-0e4a76153490"
      },
      "source": [
        "a = 0\n",
        "for i in list_notdefined:\n",
        "  a = a+i\n",
        "print(a)\n",
        "\n",
        "'''\n",
        "before loop1: sum = 0 \n",
        "loop1: sum+i = 0+1, sum = 1\n",
        "loop2: sum+i = 1+2, sum = 3\n",
        "loop3: sum+i = 3+3, sum = 6\n",
        "loop4: sum = 10\n",
        "loop5: sum = 10+5 = 15\n",
        "'''\n",
        "#1*2*3*4*5\n"
      ],
      "execution_count": null,
      "outputs": [
        {
          "output_type": "error",
          "ename": "NameError",
          "evalue": "ignored",
          "traceback": [
            "\u001b[0;31m---------------------------------------------------------------------------\u001b[0m",
            "\u001b[0;31mNameError\u001b[0m                                 Traceback (most recent call last)",
            "\u001b[0;32m<ipython-input-90-ae105f4814ab>\u001b[0m in \u001b[0;36m<module>\u001b[0;34m()\u001b[0m\n\u001b[1;32m      1\u001b[0m \u001b[0ma\u001b[0m \u001b[0;34m=\u001b[0m \u001b[0;36m0\u001b[0m\u001b[0;34m\u001b[0m\u001b[0;34m\u001b[0m\u001b[0m\n\u001b[0;32m----> 2\u001b[0;31m \u001b[0;32mfor\u001b[0m \u001b[0mi\u001b[0m \u001b[0;32min\u001b[0m \u001b[0mlist_notdefined\u001b[0m\u001b[0;34m:\u001b[0m\u001b[0;34m\u001b[0m\u001b[0;34m\u001b[0m\u001b[0m\n\u001b[0m\u001b[1;32m      3\u001b[0m   \u001b[0ma\u001b[0m \u001b[0;34m=\u001b[0m \u001b[0ma\u001b[0m\u001b[0;34m+\u001b[0m\u001b[0mi\u001b[0m\u001b[0;34m\u001b[0m\u001b[0;34m\u001b[0m\u001b[0m\n\u001b[1;32m      4\u001b[0m \u001b[0mprint\u001b[0m\u001b[0;34m(\u001b[0m\u001b[0ma\u001b[0m\u001b[0;34m)\u001b[0m\u001b[0;34m\u001b[0m\u001b[0;34m\u001b[0m\u001b[0m\n\u001b[1;32m      5\u001b[0m \u001b[0;34m\u001b[0m\u001b[0m\n",
            "\u001b[0;31mNameError\u001b[0m: name 'list_notdefined' is not defined"
          ]
        }
      ]
    },
    {
      "cell_type": "code",
      "metadata": {
        "id": "MWHVKt17R70J"
      },
      "source": [
        "#Recursion - if a function calls itself again and again that particular function \n",
        "#is called as a recursive function\n",
        "\n",
        "4! - 4*3*2*1\n",
        "10! - 10*9*8*.....1"
      ],
      "execution_count": null,
      "outputs": []
    },
    {
      "cell_type": "code",
      "metadata": {
        "colab": {
          "base_uri": "https://localhost:8080/"
        },
        "id": "xVQ1tKZNVd8q",
        "outputId": "a09a802a-f69d-41af-a1e3-43d9a65d4982"
      },
      "source": [
        "n = 5\n",
        "#5. write a program Find the factorial of a number using for loop \n",
        "res = 1 #Temporary varible\n",
        "if n == 0 or n==1:\n",
        "  res =1\n",
        "else:\n",
        "  for i in range(n,0,-1):\n",
        "    res = res*i\n",
        "  print(res)"
      ],
      "execution_count": null,
      "outputs": [
        {
          "output_type": "stream",
          "text": [
            "120\n"
          ],
          "name": "stdout"
        }
      ]
    },
    {
      "cell_type": "code",
      "metadata": {
        "colab": {
          "base_uri": "https://localhost:8080/"
        },
        "id": "LuBhBsl1YhEV",
        "outputId": "cac38ab7-32f4-4fa7-92b8-384fd320f9c3"
      },
      "source": [
        "list(range(0,20,1))"
      ],
      "execution_count": null,
      "outputs": [
        {
          "output_type": "execute_result",
          "data": {
            "text/plain": [
              "[0, 1, 2, 3, 4, 5, 6, 7, 8, 9, 10, 11, 12, 13, 14, 15, 16, 17, 18, 19]"
            ]
          },
          "metadata": {
            "tags": []
          },
          "execution_count": 66
        }
      ]
    },
    {
      "cell_type": "code",
      "metadata": {
        "colab": {
          "base_uri": "https://localhost:8080/"
        },
        "id": "f6bSx8YiZUqt",
        "outputId": "c3435cd6-3165-4c0e-f261-6aacf76948c1"
      },
      "source": [
        "list(range(20,0,-1))"
      ],
      "execution_count": null,
      "outputs": [
        {
          "output_type": "execute_result",
          "data": {
            "text/plain": [
              "[20, 19, 18, 17, 16, 15, 14, 13, 12, 11, 10, 9, 8, 7, 6, 5, 4, 3, 2, 1]"
            ]
          },
          "metadata": {
            "tags": []
          },
          "execution_count": 67
        }
      ]
    },
    {
      "cell_type": "code",
      "metadata": {
        "id": "LaPrpFwAaMQH"
      },
      "source": [
        "5*4!\n",
        "5*4*3!"
      ],
      "execution_count": null,
      "outputs": []
    },
    {
      "cell_type": "code",
      "metadata": {
        "id": "CiCgKCU7ZYHu"
      },
      "source": [
        "n = 5\n",
        "def fact(n):\n",
        "  if(n==0):\n",
        "    return 1\n",
        "  else:\n",
        "    return n*fact(n-1)"
      ],
      "execution_count": null,
      "outputs": []
    },
    {
      "cell_type": "code",
      "metadata": {
        "colab": {
          "base_uri": "https://localhost:8080/"
        },
        "id": "0nxQGe2IbQN3",
        "outputId": "9dba1b65-be66-4265-b0d1-ab46d6478f51"
      },
      "source": [
        "fact(n)"
      ],
      "execution_count": null,
      "outputs": [
        {
          "output_type": "execute_result",
          "data": {
            "text/plain": [
              "120"
            ]
          },
          "metadata": {
            "tags": []
          },
          "execution_count": 80
        }
      ]
    },
    {
      "cell_type": "code",
      "metadata": {
        "id": "y7RvMrfbbRD-"
      },
      "source": [
        "def fact(4):\n",
        "  '''\n",
        "  '''\n",
        "  if(n==0):\n",
        "    return 1\n",
        "  else:\n",
        "    return "
      ],
      "execution_count": null,
      "outputs": []
    },
    {
      "cell_type": "code",
      "metadata": {
        "id": "ewr_6eW0cAQh"
      },
      "source": [
        "import math\n",
        "math.sqrt?"
      ],
      "execution_count": null,
      "outputs": []
    },
    {
      "cell_type": "code",
      "metadata": {
        "id": "tT9eL_Q4en2D"
      },
      "source": [
        "fact?"
      ],
      "execution_count": null,
      "outputs": []
    },
    {
      "cell_type": "code",
      "metadata": {
        "colab": {
          "base_uri": "https://localhost:8080/"
        },
        "id": "e7I9w7S-fIIg",
        "outputId": "b4809c34-1da3-49ce-b762-93befa758773"
      },
      "source": [
        "n=5\n",
        "for i in range(n,0,-1):\n",
        "  #print(i)\n",
        "  for j in range(i):\n",
        "    print(\"* \",end=\"\")\n",
        "  print('') "
      ],
      "execution_count": null,
      "outputs": [
        {
          "output_type": "stream",
          "text": [
            "* * * * * \n",
            "* * * * \n",
            "* * * \n",
            "* * \n",
            "* \n"
          ],
          "name": "stdout"
        }
      ]
    },
    {
      "cell_type": "code",
      "metadata": {
        "id": "qyybF32lDgSu"
      },
      "source": [
        ""
      ],
      "execution_count": null,
      "outputs": []
    }
  ]
}