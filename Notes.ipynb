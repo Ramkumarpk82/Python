{
  "nbformat": 4,
  "nbformat_minor": 0,
  "metadata": {
    "colab": {
      "name": "Notes.ipynb",
      "provenance": [],
      "collapsed_sections": [],
      "authorship_tag": "ABX9TyM01XDubzEtclWpVTfTug2U",
      "include_colab_link": true
    },
    "kernelspec": {
      "name": "python3",
      "display_name": "Python 3"
    },
    "language_info": {
      "name": "python"
    }
  },
  "cells": [
    {
      "cell_type": "markdown",
      "metadata": {
        "id": "view-in-github",
        "colab_type": "text"
      },
      "source": [
        "<a href=\"https://colab.research.google.com/github/Ramkumarpk82/Python/blob/main/Notes.ipynb\" target=\"_parent\"><img src=\"https://colab.research.google.com/assets/colab-badge.svg\" alt=\"Open In Colab\"/></a>"
      ]
    },
    {
      "cell_type": "markdown",
      "metadata": {
        "id": "X83Or75ptWfq"
      },
      "source": [
        "--Notes of DS Batch 16 Python training"
      ]
    },
    {
      "cell_type": "code",
      "metadata": {
        "id": "cgosFMrMtmt1"
      },
      "source": [
        "#list \n",
        "'''\n",
        "1. Allows Heterogenous \n",
        "2. Index starts from 0 \n",
        "3. Mutable using index \n",
        "4. [] Braces\n",
        "'''\n",
        "sample_list = [1,23,3.5,'Inceptez',1+4j]"
      ],
      "execution_count": 26,
      "outputs": []
    },
    {
      "cell_type": "code",
      "metadata": {
        "colab": {
          "base_uri": "https://localhost:8080/"
        },
        "id": "Ih432xtLtqmE",
        "outputId": "4e8fc824-a7e6-4071-d859-03c533953b5f"
      },
      "source": [
        "print(sample_list) ; print(sample_list[2]) ; print(sample_list[1:]) ; print(sample_list[:-1]) ; print(type(sample_list))"
      ],
      "execution_count": 17,
      "outputs": [
        {
          "output_type": "stream",
          "text": [
            "[1, 23, 3.5, 'Inceptez', (1+4j)]\n",
            "3.5\n",
            "[23, 3.5, 'Inceptez', (1+4j)]\n",
            "[1, 23, 3.5, 'Inceptez']\n",
            "<class 'list'>\n"
          ],
          "name": "stdout"
        }
      ]
    },
    {
      "cell_type": "code",
      "metadata": {
        "id": "krmTlSiv9Ecg"
      },
      "source": [
        "#Tuple \n",
        "\"\"\"\n",
        "1. Allows Heterogenous \n",
        "2. Retrieve using index \n",
        "3. Cannot change the data once declared! - Immutable \n",
        "4. () Braces\n",
        "\"\"\"\n",
        "sample_tuple = (1,23,3.5,'Inceptez',1+4j)"
      ],
      "execution_count": 18,
      "outputs": []
    },
    {
      "cell_type": "code",
      "metadata": {
        "colab": {
          "base_uri": "https://localhost:8080/"
        },
        "id": "7Zrlt27P-Fp8",
        "outputId": "ee452f10-b910-4e44-89b7-3cb1c5712fff"
      },
      "source": [
        "print(sample_tuple) ; print(sample_tuple[2]) ; print(sample_tuple[1:]) ; print(sample_tuple[:-1]) ; print(type(sample_tuple))"
      ],
      "execution_count": 21,
      "outputs": [
        {
          "output_type": "stream",
          "text": [
            "(1, 23, 3.5, 'Inceptez', (1+4j))\n",
            "3.5\n",
            "(23, 3.5, 'Inceptez', (1+4j))\n",
            "(1, 23, 3.5, 'Inceptez')\n",
            "<class 'tuple'>\n"
          ],
          "name": "stdout"
        }
      ]
    },
    {
      "cell_type": "code",
      "metadata": {
        "colab": {
          "base_uri": "https://localhost:8080/",
          "height": 246
        },
        "id": "8SPW0i6Q9xaY",
        "outputId": "dd1546a8-84d3-47b5-de57-09bfd09f3e94"
      },
      "source": [
        "## Difference - list '[]' tuple will have ()\n",
        "## Lists are mutable through index and tuples are immutable\n",
        "print(sample_list) ; sample_list[1]; sample_list[1]=22;  print(sample_list)\n",
        "print(sample_tuple) ; sample_tuple[1]; sample_tuple[1]=22; print(sample_tuple)"
      ],
      "execution_count": 27,
      "outputs": [
        {
          "output_type": "stream",
          "text": [
            "[1, 23, 3.5, 'Inceptez', (1+4j)]\n",
            "[1, 22, 3.5, 'Inceptez', (1+4j)]\n",
            "(1, 23, 3.5, 'Inceptez', (1+4j))\n"
          ],
          "name": "stdout"
        },
        {
          "output_type": "error",
          "ename": "TypeError",
          "evalue": "ignored",
          "traceback": [
            "\u001b[0;31m---------------------------------------------------------------------------\u001b[0m",
            "\u001b[0;31mTypeError\u001b[0m                                 Traceback (most recent call last)",
            "\u001b[0;32m<ipython-input-27-60bea7b59015>\u001b[0m in \u001b[0;36m<module>\u001b[0;34m()\u001b[0m\n\u001b[1;32m      2\u001b[0m \u001b[0;31m## Lists are mutable through index and tuples are immutable\u001b[0m\u001b[0;34m\u001b[0m\u001b[0;34m\u001b[0m\u001b[0;34m\u001b[0m\u001b[0m\n\u001b[1;32m      3\u001b[0m \u001b[0mprint\u001b[0m\u001b[0;34m(\u001b[0m\u001b[0msample_list\u001b[0m\u001b[0;34m)\u001b[0m \u001b[0;34m;\u001b[0m \u001b[0msample_list\u001b[0m\u001b[0;34m[\u001b[0m\u001b[0;36m1\u001b[0m\u001b[0;34m]\u001b[0m\u001b[0;34m;\u001b[0m \u001b[0msample_list\u001b[0m\u001b[0;34m[\u001b[0m\u001b[0;36m1\u001b[0m\u001b[0;34m]\u001b[0m\u001b[0;34m=\u001b[0m\u001b[0;36m22\u001b[0m\u001b[0;34m;\u001b[0m  \u001b[0mprint\u001b[0m\u001b[0;34m(\u001b[0m\u001b[0msample_list\u001b[0m\u001b[0;34m)\u001b[0m\u001b[0;34m\u001b[0m\u001b[0;34m\u001b[0m\u001b[0m\n\u001b[0;32m----> 4\u001b[0;31m \u001b[0mprint\u001b[0m\u001b[0;34m(\u001b[0m\u001b[0msample_tuple\u001b[0m\u001b[0;34m)\u001b[0m \u001b[0;34m;\u001b[0m \u001b[0msample_tuple\u001b[0m\u001b[0;34m[\u001b[0m\u001b[0;36m1\u001b[0m\u001b[0;34m]\u001b[0m\u001b[0;34m;\u001b[0m \u001b[0msample_tuple\u001b[0m\u001b[0;34m[\u001b[0m\u001b[0;36m1\u001b[0m\u001b[0;34m]\u001b[0m\u001b[0;34m=\u001b[0m\u001b[0;36m22\u001b[0m\u001b[0;34m;\u001b[0m \u001b[0mprint\u001b[0m\u001b[0;34m(\u001b[0m\u001b[0msample_tuple\u001b[0m\u001b[0;34m)\u001b[0m\u001b[0;34m\u001b[0m\u001b[0;34m\u001b[0m\u001b[0m\n\u001b[0m",
            "\u001b[0;31mTypeError\u001b[0m: 'tuple' object does not support item assignment"
          ]
        }
      ]
    },
    {
      "cell_type": "code",
      "metadata": {
        "colab": {
          "base_uri": "https://localhost:8080/",
          "height": 229
        },
        "id": "kXL3ucsd9xc0",
        "outputId": "1e8b34fe-f7b9-43ba-a02d-33c615d40284"
      },
      "source": [
        "#SET\n",
        "\"\"\"\n",
        "1. Heterogenous \n",
        "2. Does not allow duplicates\n",
        "3. Cannot access using index \n",
        "4. Immutable\n",
        "5. Sometimes order of values change\n",
        "6. {} Braces\n",
        "\"\"\"\n",
        "sample_set = {1,3,2,4,4,4,4,4,5,5,6,7,8,98,'a','inceptez'}\n",
        "print(sample_set) ; print(type(sample_set)) ; print(sample_set[2])"
      ],
      "execution_count": 32,
      "outputs": [
        {
          "output_type": "stream",
          "text": [
            "{1, 2, 3, 4, 5, 6, 7, 8, 98, 'a', 'inceptez'}\n",
            "<class 'set'>\n"
          ],
          "name": "stdout"
        },
        {
          "output_type": "error",
          "ename": "TypeError",
          "evalue": "ignored",
          "traceback": [
            "\u001b[0;31m---------------------------------------------------------------------------\u001b[0m",
            "\u001b[0;31mTypeError\u001b[0m                                 Traceback (most recent call last)",
            "\u001b[0;32m<ipython-input-32-46e7a1a3b876>\u001b[0m in \u001b[0;36m<module>\u001b[0;34m()\u001b[0m\n\u001b[1;32m      9\u001b[0m \"\"\"\n\u001b[1;32m     10\u001b[0m \u001b[0msample_set\u001b[0m \u001b[0;34m=\u001b[0m \u001b[0;34m{\u001b[0m\u001b[0;36m1\u001b[0m\u001b[0;34m,\u001b[0m\u001b[0;36m3\u001b[0m\u001b[0;34m,\u001b[0m\u001b[0;36m2\u001b[0m\u001b[0;34m,\u001b[0m\u001b[0;36m4\u001b[0m\u001b[0;34m,\u001b[0m\u001b[0;36m4\u001b[0m\u001b[0;34m,\u001b[0m\u001b[0;36m4\u001b[0m\u001b[0;34m,\u001b[0m\u001b[0;36m4\u001b[0m\u001b[0;34m,\u001b[0m\u001b[0;36m4\u001b[0m\u001b[0;34m,\u001b[0m\u001b[0;36m5\u001b[0m\u001b[0;34m,\u001b[0m\u001b[0;36m5\u001b[0m\u001b[0;34m,\u001b[0m\u001b[0;36m6\u001b[0m\u001b[0;34m,\u001b[0m\u001b[0;36m7\u001b[0m\u001b[0;34m,\u001b[0m\u001b[0;36m8\u001b[0m\u001b[0;34m,\u001b[0m\u001b[0;36m98\u001b[0m\u001b[0;34m,\u001b[0m\u001b[0;34m'a'\u001b[0m\u001b[0;34m,\u001b[0m\u001b[0;34m'inceptez'\u001b[0m\u001b[0;34m}\u001b[0m\u001b[0;34m\u001b[0m\u001b[0;34m\u001b[0m\u001b[0m\n\u001b[0;32m---> 11\u001b[0;31m \u001b[0mprint\u001b[0m\u001b[0;34m(\u001b[0m\u001b[0msample_set\u001b[0m\u001b[0;34m)\u001b[0m \u001b[0;34m;\u001b[0m \u001b[0mprint\u001b[0m\u001b[0;34m(\u001b[0m\u001b[0mtype\u001b[0m\u001b[0;34m(\u001b[0m\u001b[0msample_set\u001b[0m\u001b[0;34m)\u001b[0m\u001b[0;34m)\u001b[0m \u001b[0;34m;\u001b[0m \u001b[0mprint\u001b[0m\u001b[0;34m(\u001b[0m\u001b[0msample_set\u001b[0m\u001b[0;34m[\u001b[0m\u001b[0;36m2\u001b[0m\u001b[0;34m]\u001b[0m\u001b[0;34m)\u001b[0m\u001b[0;34m\u001b[0m\u001b[0;34m\u001b[0m\u001b[0m\n\u001b[0m",
            "\u001b[0;31mTypeError\u001b[0m: 'set' object is not subscriptable"
          ]
        }
      ]
    },
    {
      "cell_type": "code",
      "metadata": {
        "colab": {
          "base_uri": "https://localhost:8080/"
        },
        "id": "tRq05AcT9xdj",
        "outputId": "92754570-9fee-4864-ae54-bbf64c7dc142"
      },
      "source": [
        "# You can can convert set to list to remove duplicates & use \n",
        "setlist=list(sample_set)\n",
        "print(type(setlist)); print(setlist) ; print(setlist[2])"
      ],
      "execution_count": 31,
      "outputs": [
        {
          "output_type": "stream",
          "text": [
            "<class 'list'>\n",
            "[1, 2, 3, 4, 5, 6, 7, 8, 98, 'a', 'inceptez']\n",
            "3\n"
          ],
          "name": "stdout"
        }
      ]
    },
    {
      "cell_type": "code",
      "metadata": {
        "colab": {
          "base_uri": "https://localhost:8080/",
          "height": 128
        },
        "id": "pwrU0OnxD-I0",
        "outputId": "935f872f-5fe5-4e89-8557-b9ff91cd1678"
      },
      "source": [
        "#dictionary\n",
        "\"\"\"\n",
        "1. Key - Value pair Datastructure\n",
        "2. Key is Unique and values can be duplicated\n",
        "3. Can retrieve the values using keys\n",
        "4. Can change the value using the key \n",
        "5. Key is immutable\n",
        "\n",
        "Dictionaries - Are Hashmaps if you are from any other languages\n",
        "\"\"\"\n",
        "1. Logical Error - The code will run if there is a logical error! But cannot be\n",
        "used as there is an issue in the solution Approach\n",
        "2. Syntax Error - There is an issue with the code syntax itself! \n",
        "\n",
        "None\n",
        "\"  \"\n"
      ],
      "execution_count": 33,
      "outputs": [
        {
          "output_type": "error",
          "ename": "SyntaxError",
          "evalue": "ignored",
          "traceback": [
            "\u001b[0;36m  File \u001b[0;32m\"<ipython-input-33-a71d98e6d96a>\"\u001b[0;36m, line \u001b[0;32m11\u001b[0m\n\u001b[0;31m    1. Logical Error - The code will run if there is a logical error! But cannot be\u001b[0m\n\u001b[0m             ^\u001b[0m\n\u001b[0;31mSyntaxError\u001b[0m\u001b[0;31m:\u001b[0m invalid syntax\n"
          ]
        }
      ]
    }
  ]
}